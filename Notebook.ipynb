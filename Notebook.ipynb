{
  "cells": [
    {
      "cell_type": "markdown",
      "metadata": {
        "id": "H9wADwK78DCz"
      },
      "source": [
        "# Proyek Analisis Data: bike_sharing\n",
        "- **Nama:** Safiratun Nisa\n",
        "- **Email:** safiratunnisa2004@Gmail.com\n",
        "- **ID Dicoding:** Safiratun Nisa"
      ]
    },
    {
      "cell_type": "markdown",
      "metadata": {},
      "source": [
        "## 1. Pengenalan Projek\n",
        "\n",
        "    Bike sharing adalah sistem berbagi sepeda yang memungkinkan orang untuk menyewa sepeda secara sementara untuk perjalanan jarak pendek. Sistem ini mengutamakan kenyamanan, efisiensi, dan keberlanjutan dalam mobilitas perkotaan. Sistem bike sharing memungkinkan pengguna untuk menyewa sepeda dari satu titik di kota dan mengembalikannya ke titik lain yang telah ditentukan, yang memberi fleksibilitas lebih bagi pengguna yang ingin berkeliling kota dengan cara yang ramah lingkungan.\n",
        "\n",
        "    Dataset\n",
        "        Proses penyewaan sepeda bersama sangat berkorelasi dengan lingkungan dan kondisi musiman. Misalnya, kondisi cuaca, curah hujan, hari dalam seminggu, musim, jam dalam sehari, dll. dapat memengaruhi perilaku penyewaan. Kumpulan data inti terkait dengan catatan historis dua tahun yang sesuai dengan tahun 2011 dan 2012 dari sistem Capital Bikeshare, Washington D.C., AS yang tersedia untuk umum di http://capitalbikeshare.com/system-data.\n",
        "\n",
        "        Data dikumpulkan setiap jam kemudian diekstraksi dan ditambahkan informasi cuaca dan musiman yang sesuai. Informasi cuaca diekstraksi dari http://www.freemeteo.com."
      ]
    },
    {
      "cell_type": "markdown",
      "metadata": {
        "id": "eE0raob58DC0"
      },
      "source": [
        "## 2. Menentukan Pertanyaan Bisnis"
      ]
    },
    {
      "cell_type": "markdown",
      "metadata": {
        "id": "GmQeQ5YF8DC0"
      },
      "source": [
        "    \"Musim apa yang paling banyak diminati pelanggan untuk menyewa sepeda?\"\n",
        "    \"Bagaimana pengaruh musim terhadap jumlah penyewa sepeda?\""
      ]
    },
    {
      "cell_type": "markdown",
      "metadata": {
        "id": "H-z4QGlO8DC1"
      },
      "source": [
        "## 3. Import Semua Packages/Library yang Digunakan"
      ]
    },
    {
      "cell_type": "code",
      "execution_count": 1,
      "metadata": {},
      "outputs": [],
      "source": [
        "import pandas as pd\n",
        "import numpy as np\n",
        "import matplotlib.pyplot as plt\n",
        "import seaborn as sns"
      ]
    },
    {
      "cell_type": "markdown",
      "metadata": {
        "id": "h_Sh51Xy8DC1"
      },
      "source": [
        "## Data Wrangling\n",
        "\n",
        "    Pertama kita akan membaca dua buah data yang diimport dari bike sharing dataset yaitu day.csv dan hour.csv.\n",
        "    Lalu Inisialisasi Data untuk day.csv dan hour.csv"
      ]
    },
    {
      "cell_type": "code",
      "execution_count": 3,
      "metadata": {},
      "outputs": [],
      "source": [
        "import pandas as pd\n",
        "\n",
        "df_day = pd.read_csv(\"data\\day.csv\")\n",
        "df_hour = pd.read_csv(\"data\\hour.csv\")"
      ]
    },
    {
      "cell_type": "markdown",
      "metadata": {
        "id": "MMi6xGaDkbCi"
      },
      "source": [
        "### Assessing Data\n",
        "### Menilai tabel df_day\n",
        "        Beberapa teknik dilakukan untuk memeriksa karakteristik data, yaitu memeriksa nilai duplikat, memeriksa nilai yang hilang, memeriksa nilai yang tidak akurat, dan lain-lain.\n",
        "#### df_day : Data Type Check"
      ]
    },
    {
      "cell_type": "code",
      "execution_count": 4,
      "metadata": {
        "id": "ax-3tEjc9Cj1"
      },
      "outputs": [
        {
          "name": "stdout",
          "output_type": "stream",
          "text": [
            "<class 'pandas.core.frame.DataFrame'>\n",
            "RangeIndex: 731 entries, 0 to 730\n",
            "Data columns (total 16 columns):\n",
            " #   Column      Non-Null Count  Dtype  \n",
            "---  ------      --------------  -----  \n",
            " 0   instant     731 non-null    int64  \n",
            " 1   dteday      731 non-null    object \n",
            " 2   season      731 non-null    int64  \n",
            " 3   yr          731 non-null    int64  \n",
            " 4   mnth        731 non-null    int64  \n",
            " 5   holiday     731 non-null    int64  \n",
            " 6   weekday     731 non-null    int64  \n",
            " 7   workingday  731 non-null    int64  \n",
            " 8   weathersit  731 non-null    int64  \n",
            " 9   temp        731 non-null    float64\n",
            " 10  atemp       731 non-null    float64\n",
            " 11  hum         731 non-null    float64\n",
            " 12  windspeed   731 non-null    float64\n",
            " 13  casual      731 non-null    int64  \n",
            " 14  registered  731 non-null    int64  \n",
            " 15  cnt         731 non-null    int64  \n",
            "dtypes: float64(4), int64(11), object(1)\n",
            "memory usage: 91.5+ KB\n"
          ]
        }
      ],
      "source": [
        "df_day.info()"
      ]
    },
    {
      "cell_type": "markdown",
      "metadata": {
        "id": "7dtxhAPrkhPL"
      },
      "source": [
        "    - Setelah melakukan pengecekkan, ada 1 kesalahan terhadap data type. Pada column dteday (object==> datetime)\n",
        "    - Kita akan mengonversi variabel dteday ke tipe data date.\n",
        "    - Variabel season, weekday, dan mnth direpresentasikan dalam bentuk integer, kita akan mengubahnya ke nilai string masing-masing.\n",
        "    - Variabel yr direpresentasikan sebagai 0 untuk tahun 2011 dan 1 untuk tahun 2012. Kita akan mengubahnya ke nilai masing-masing."
      ]
    },
    {
      "cell_type": "markdown",
      "metadata": {},
      "source": [
        "#### df_day : Missing Value Check"
      ]
    },
    {
      "cell_type": "code",
      "execution_count": 5,
      "metadata": {},
      "outputs": [
        {
          "data": {
            "text/plain": [
              "instant       0\n",
              "dteday        0\n",
              "season        0\n",
              "yr            0\n",
              "mnth          0\n",
              "holiday       0\n",
              "weekday       0\n",
              "workingday    0\n",
              "weathersit    0\n",
              "temp          0\n",
              "atemp         0\n",
              "hum           0\n",
              "windspeed     0\n",
              "casual        0\n",
              "registered    0\n",
              "cnt           0\n",
              "dtype: int64"
            ]
          },
          "execution_count": 5,
          "metadata": {},
          "output_type": "execute_result"
        }
      ],
      "source": [
        "df_day.isna().sum()"
      ]
    },
    {
      "cell_type": "markdown",
      "metadata": {},
      "source": [
        "    Tidak ditemukan adanya missing value pada data df_day"
      ]
    },
    {
      "cell_type": "markdown",
      "metadata": {},
      "source": [
        "#### df_day : Data Duplicate Check"
      ]
    },
    {
      "cell_type": "code",
      "execution_count": 6,
      "metadata": {},
      "outputs": [
        {
          "name": "stdout",
          "output_type": "stream",
          "text": [
            "Jumlah data duplikat:  0\n"
          ]
        }
      ],
      "source": [
        "print(\"Jumlah data duplikat: \", df_day.duplicated().sum())"
      ]
    },
    {
      "cell_type": "markdown",
      "metadata": {},
      "source": [
        "    Tampaknya tidak ada nilai duplikat dalam dataset"
      ]
    },
    {
      "cell_type": "markdown",
      "metadata": {},
      "source": [
        "#### df_day : Statistic Value Check"
      ]
    },
    {
      "cell_type": "code",
      "execution_count": 7,
      "metadata": {},
      "outputs": [
        {
          "data": {
            "text/html": [
              "<div>\n",
              "<style scoped>\n",
              "    .dataframe tbody tr th:only-of-type {\n",
              "        vertical-align: middle;\n",
              "    }\n",
              "\n",
              "    .dataframe tbody tr th {\n",
              "        vertical-align: top;\n",
              "    }\n",
              "\n",
              "    .dataframe thead th {\n",
              "        text-align: right;\n",
              "    }\n",
              "</style>\n",
              "<table border=\"1\" class=\"dataframe\">\n",
              "  <thead>\n",
              "    <tr style=\"text-align: right;\">\n",
              "      <th></th>\n",
              "      <th>instant</th>\n",
              "      <th>season</th>\n",
              "      <th>yr</th>\n",
              "      <th>mnth</th>\n",
              "      <th>holiday</th>\n",
              "      <th>weekday</th>\n",
              "      <th>workingday</th>\n",
              "      <th>weathersit</th>\n",
              "      <th>temp</th>\n",
              "      <th>atemp</th>\n",
              "      <th>hum</th>\n",
              "      <th>windspeed</th>\n",
              "      <th>casual</th>\n",
              "      <th>registered</th>\n",
              "      <th>cnt</th>\n",
              "    </tr>\n",
              "  </thead>\n",
              "  <tbody>\n",
              "    <tr>\n",
              "      <th>count</th>\n",
              "      <td>731.000000</td>\n",
              "      <td>731.000000</td>\n",
              "      <td>731.000000</td>\n",
              "      <td>731.000000</td>\n",
              "      <td>731.000000</td>\n",
              "      <td>731.000000</td>\n",
              "      <td>731.000000</td>\n",
              "      <td>731.000000</td>\n",
              "      <td>731.000000</td>\n",
              "      <td>731.000000</td>\n",
              "      <td>731.000000</td>\n",
              "      <td>731.000000</td>\n",
              "      <td>731.000000</td>\n",
              "      <td>731.000000</td>\n",
              "      <td>731.000000</td>\n",
              "    </tr>\n",
              "    <tr>\n",
              "      <th>mean</th>\n",
              "      <td>366.000000</td>\n",
              "      <td>2.496580</td>\n",
              "      <td>0.500684</td>\n",
              "      <td>6.519836</td>\n",
              "      <td>0.028728</td>\n",
              "      <td>2.997264</td>\n",
              "      <td>0.683995</td>\n",
              "      <td>1.395349</td>\n",
              "      <td>0.495385</td>\n",
              "      <td>0.474354</td>\n",
              "      <td>0.627894</td>\n",
              "      <td>0.190486</td>\n",
              "      <td>848.176471</td>\n",
              "      <td>3656.172367</td>\n",
              "      <td>4504.348837</td>\n",
              "    </tr>\n",
              "    <tr>\n",
              "      <th>std</th>\n",
              "      <td>211.165812</td>\n",
              "      <td>1.110807</td>\n",
              "      <td>0.500342</td>\n",
              "      <td>3.451913</td>\n",
              "      <td>0.167155</td>\n",
              "      <td>2.004787</td>\n",
              "      <td>0.465233</td>\n",
              "      <td>0.544894</td>\n",
              "      <td>0.183051</td>\n",
              "      <td>0.162961</td>\n",
              "      <td>0.142429</td>\n",
              "      <td>0.077498</td>\n",
              "      <td>686.622488</td>\n",
              "      <td>1560.256377</td>\n",
              "      <td>1937.211452</td>\n",
              "    </tr>\n",
              "    <tr>\n",
              "      <th>min</th>\n",
              "      <td>1.000000</td>\n",
              "      <td>1.000000</td>\n",
              "      <td>0.000000</td>\n",
              "      <td>1.000000</td>\n",
              "      <td>0.000000</td>\n",
              "      <td>0.000000</td>\n",
              "      <td>0.000000</td>\n",
              "      <td>1.000000</td>\n",
              "      <td>0.059130</td>\n",
              "      <td>0.079070</td>\n",
              "      <td>0.000000</td>\n",
              "      <td>0.022392</td>\n",
              "      <td>2.000000</td>\n",
              "      <td>20.000000</td>\n",
              "      <td>22.000000</td>\n",
              "    </tr>\n",
              "    <tr>\n",
              "      <th>25%</th>\n",
              "      <td>183.500000</td>\n",
              "      <td>2.000000</td>\n",
              "      <td>0.000000</td>\n",
              "      <td>4.000000</td>\n",
              "      <td>0.000000</td>\n",
              "      <td>1.000000</td>\n",
              "      <td>0.000000</td>\n",
              "      <td>1.000000</td>\n",
              "      <td>0.337083</td>\n",
              "      <td>0.337842</td>\n",
              "      <td>0.520000</td>\n",
              "      <td>0.134950</td>\n",
              "      <td>315.500000</td>\n",
              "      <td>2497.000000</td>\n",
              "      <td>3152.000000</td>\n",
              "    </tr>\n",
              "    <tr>\n",
              "      <th>50%</th>\n",
              "      <td>366.000000</td>\n",
              "      <td>3.000000</td>\n",
              "      <td>1.000000</td>\n",
              "      <td>7.000000</td>\n",
              "      <td>0.000000</td>\n",
              "      <td>3.000000</td>\n",
              "      <td>1.000000</td>\n",
              "      <td>1.000000</td>\n",
              "      <td>0.498333</td>\n",
              "      <td>0.486733</td>\n",
              "      <td>0.626667</td>\n",
              "      <td>0.180975</td>\n",
              "      <td>713.000000</td>\n",
              "      <td>3662.000000</td>\n",
              "      <td>4548.000000</td>\n",
              "    </tr>\n",
              "    <tr>\n",
              "      <th>75%</th>\n",
              "      <td>548.500000</td>\n",
              "      <td>3.000000</td>\n",
              "      <td>1.000000</td>\n",
              "      <td>10.000000</td>\n",
              "      <td>0.000000</td>\n",
              "      <td>5.000000</td>\n",
              "      <td>1.000000</td>\n",
              "      <td>2.000000</td>\n",
              "      <td>0.655417</td>\n",
              "      <td>0.608602</td>\n",
              "      <td>0.730209</td>\n",
              "      <td>0.233214</td>\n",
              "      <td>1096.000000</td>\n",
              "      <td>4776.500000</td>\n",
              "      <td>5956.000000</td>\n",
              "    </tr>\n",
              "    <tr>\n",
              "      <th>max</th>\n",
              "      <td>731.000000</td>\n",
              "      <td>4.000000</td>\n",
              "      <td>1.000000</td>\n",
              "      <td>12.000000</td>\n",
              "      <td>1.000000</td>\n",
              "      <td>6.000000</td>\n",
              "      <td>1.000000</td>\n",
              "      <td>3.000000</td>\n",
              "      <td>0.861667</td>\n",
              "      <td>0.840896</td>\n",
              "      <td>0.972500</td>\n",
              "      <td>0.507463</td>\n",
              "      <td>3410.000000</td>\n",
              "      <td>6946.000000</td>\n",
              "      <td>8714.000000</td>\n",
              "    </tr>\n",
              "  </tbody>\n",
              "</table>\n",
              "</div>"
            ],
            "text/plain": [
              "          instant      season          yr        mnth     holiday     weekday  \\\n",
              "count  731.000000  731.000000  731.000000  731.000000  731.000000  731.000000   \n",
              "mean   366.000000    2.496580    0.500684    6.519836    0.028728    2.997264   \n",
              "std    211.165812    1.110807    0.500342    3.451913    0.167155    2.004787   \n",
              "min      1.000000    1.000000    0.000000    1.000000    0.000000    0.000000   \n",
              "25%    183.500000    2.000000    0.000000    4.000000    0.000000    1.000000   \n",
              "50%    366.000000    3.000000    1.000000    7.000000    0.000000    3.000000   \n",
              "75%    548.500000    3.000000    1.000000   10.000000    0.000000    5.000000   \n",
              "max    731.000000    4.000000    1.000000   12.000000    1.000000    6.000000   \n",
              "\n",
              "       workingday  weathersit        temp       atemp         hum   windspeed  \\\n",
              "count  731.000000  731.000000  731.000000  731.000000  731.000000  731.000000   \n",
              "mean     0.683995    1.395349    0.495385    0.474354    0.627894    0.190486   \n",
              "std      0.465233    0.544894    0.183051    0.162961    0.142429    0.077498   \n",
              "min      0.000000    1.000000    0.059130    0.079070    0.000000    0.022392   \n",
              "25%      0.000000    1.000000    0.337083    0.337842    0.520000    0.134950   \n",
              "50%      1.000000    1.000000    0.498333    0.486733    0.626667    0.180975   \n",
              "75%      1.000000    2.000000    0.655417    0.608602    0.730209    0.233214   \n",
              "max      1.000000    3.000000    0.861667    0.840896    0.972500    0.507463   \n",
              "\n",
              "            casual   registered          cnt  \n",
              "count   731.000000   731.000000   731.000000  \n",
              "mean    848.176471  3656.172367  4504.348837  \n",
              "std     686.622488  1560.256377  1937.211452  \n",
              "min       2.000000    20.000000    22.000000  \n",
              "25%     315.500000  2497.000000  3152.000000  \n",
              "50%     713.000000  3662.000000  4548.000000  \n",
              "75%    1096.000000  4776.500000  5956.000000  \n",
              "max    3410.000000  6946.000000  8714.000000  "
            ]
          },
          "execution_count": 7,
          "metadata": {},
          "output_type": "execute_result"
        }
      ],
      "source": [
        "df_day.describe()"
      ]
    },
    {
      "cell_type": "markdown",
      "metadata": {},
      "source": [
        "#### Ringkasan Assessing data\n",
        "        - Ubah variabel dteday menjadi tipe data tanggal\n",
        "        - Variabel season, weekday, dan mnth direpresentasikan dalam bentuk integer, kita akan mengubahnya menjadi nilai string masing-masing.\n",
        "        - Variabel yr direpresentasikan sebagai 0 untuk tahun 2011 dan 1 untuk tahun 2012. Kita akan mengubahnya menjadi nilai masing-masing.\n",
        "        - Seperti yang dijelaskan dalam kamus dataset, variabel temp, atemp, hum, dan windspeed dinormalisasi. Untuk mendapatkan pemahaman yang lebih baik tentang kondisi kehidupan nyata, kita akan mengoreksi nilai-nilai ini menjadi sebelum dinormalisasi."
      ]
    },
    {
      "cell_type": "markdown",
      "metadata": {},
      "source": [
        "### Menilai tabel df_hour\n",
        "#### df_hour : Data Type Check"
      ]
    },
    {
      "cell_type": "code",
      "execution_count": 8,
      "metadata": {},
      "outputs": [
        {
          "name": "stdout",
          "output_type": "stream",
          "text": [
            "<class 'pandas.core.frame.DataFrame'>\n",
            "RangeIndex: 17379 entries, 0 to 17378\n",
            "Data columns (total 17 columns):\n",
            " #   Column      Non-Null Count  Dtype  \n",
            "---  ------      --------------  -----  \n",
            " 0   instant     17379 non-null  int64  \n",
            " 1   dteday      17379 non-null  object \n",
            " 2   season      17379 non-null  int64  \n",
            " 3   yr          17379 non-null  int64  \n",
            " 4   mnth        17379 non-null  int64  \n",
            " 5   hr          17379 non-null  int64  \n",
            " 6   holiday     17379 non-null  int64  \n",
            " 7   weekday     17379 non-null  int64  \n",
            " 8   workingday  17379 non-null  int64  \n",
            " 9   weathersit  17379 non-null  int64  \n",
            " 10  temp        17379 non-null  float64\n",
            " 11  atemp       17379 non-null  float64\n",
            " 12  hum         17379 non-null  float64\n",
            " 13  windspeed   17379 non-null  float64\n",
            " 14  casual      17379 non-null  int64  \n",
            " 15  registered  17379 non-null  int64  \n",
            " 16  cnt         17379 non-null  int64  \n",
            "dtypes: float64(4), int64(12), object(1)\n",
            "memory usage: 2.3+ MB\n"
          ]
        }
      ],
      "source": [
        "df_hour.info()"
      ]
    },
    {
      "cell_type": "markdown",
      "metadata": {},
      "source": [
        "    - Setelah melakukan pengecekkan, ada 1 kesalahan terhadap data type. Pada column dteday (object==> datetime)\n",
        "    - Kita akan mengonversi variabel dteday ke tipe data date.\n",
        "    - Variabel season, weekday, dan mnth direpresentasikan dalam bentuk integer, kita akan mengubahnya ke nilai string masing-masing.\n",
        "    - Variabel yr direpresentasikan sebagai 0 untuk tahun 2011 dan 1 untuk tahun 2012. Kita akan mengubahnya ke nilai masing-masing."
      ]
    },
    {
      "cell_type": "code",
      "execution_count": 9,
      "metadata": {},
      "outputs": [
        {
          "data": {
            "text/plain": [
              "instant       0\n",
              "dteday        0\n",
              "season        0\n",
              "yr            0\n",
              "mnth          0\n",
              "hr            0\n",
              "holiday       0\n",
              "weekday       0\n",
              "workingday    0\n",
              "weathersit    0\n",
              "temp          0\n",
              "atemp         0\n",
              "hum           0\n",
              "windspeed     0\n",
              "casual        0\n",
              "registered    0\n",
              "cnt           0\n",
              "dtype: int64"
            ]
          },
          "execution_count": 9,
          "metadata": {},
          "output_type": "execute_result"
        }
      ],
      "source": [
        "df_hour.isna().sum()"
      ]
    },
    {
      "cell_type": "markdown",
      "metadata": {},
      "source": [
        "    Tidak ada missing value pada data df_hour"
      ]
    },
    {
      "cell_type": "markdown",
      "metadata": {},
      "source": [
        "#### df_hour : Data Duplicate Check"
      ]
    },
    {
      "cell_type": "code",
      "execution_count": 10,
      "metadata": {},
      "outputs": [
        {
          "name": "stdout",
          "output_type": "stream",
          "text": [
            "Jumlah data duplikat:  0\n"
          ]
        }
      ],
      "source": [
        "print(\"Jumlah data duplikat: \", df_hour.duplicated().sum())"
      ]
    },
    {
      "cell_type": "markdown",
      "metadata": {},
      "source": [
        "    Tampaknya tidak ada nilai duplikat dalam dataset"
      ]
    },
    {
      "cell_type": "markdown",
      "metadata": {},
      "source": [
        "#### df_hour : Statistic Value Check"
      ]
    },
    {
      "cell_type": "code",
      "execution_count": 11,
      "metadata": {},
      "outputs": [
        {
          "data": {
            "text/html": [
              "<div>\n",
              "<style scoped>\n",
              "    .dataframe tbody tr th:only-of-type {\n",
              "        vertical-align: middle;\n",
              "    }\n",
              "\n",
              "    .dataframe tbody tr th {\n",
              "        vertical-align: top;\n",
              "    }\n",
              "\n",
              "    .dataframe thead th {\n",
              "        text-align: right;\n",
              "    }\n",
              "</style>\n",
              "<table border=\"1\" class=\"dataframe\">\n",
              "  <thead>\n",
              "    <tr style=\"text-align: right;\">\n",
              "      <th></th>\n",
              "      <th>instant</th>\n",
              "      <th>season</th>\n",
              "      <th>yr</th>\n",
              "      <th>mnth</th>\n",
              "      <th>hr</th>\n",
              "      <th>holiday</th>\n",
              "      <th>weekday</th>\n",
              "      <th>workingday</th>\n",
              "      <th>weathersit</th>\n",
              "      <th>temp</th>\n",
              "      <th>atemp</th>\n",
              "      <th>hum</th>\n",
              "      <th>windspeed</th>\n",
              "      <th>casual</th>\n",
              "      <th>registered</th>\n",
              "      <th>cnt</th>\n",
              "    </tr>\n",
              "  </thead>\n",
              "  <tbody>\n",
              "    <tr>\n",
              "      <th>count</th>\n",
              "      <td>17379.0000</td>\n",
              "      <td>17379.000000</td>\n",
              "      <td>17379.000000</td>\n",
              "      <td>17379.000000</td>\n",
              "      <td>17379.000000</td>\n",
              "      <td>17379.000000</td>\n",
              "      <td>17379.000000</td>\n",
              "      <td>17379.000000</td>\n",
              "      <td>17379.000000</td>\n",
              "      <td>17379.000000</td>\n",
              "      <td>17379.000000</td>\n",
              "      <td>17379.000000</td>\n",
              "      <td>17379.000000</td>\n",
              "      <td>17379.000000</td>\n",
              "      <td>17379.000000</td>\n",
              "      <td>17379.000000</td>\n",
              "    </tr>\n",
              "    <tr>\n",
              "      <th>mean</th>\n",
              "      <td>8690.0000</td>\n",
              "      <td>2.501640</td>\n",
              "      <td>0.502561</td>\n",
              "      <td>6.537775</td>\n",
              "      <td>11.546752</td>\n",
              "      <td>0.028770</td>\n",
              "      <td>3.003683</td>\n",
              "      <td>0.682721</td>\n",
              "      <td>1.425283</td>\n",
              "      <td>0.496987</td>\n",
              "      <td>0.475775</td>\n",
              "      <td>0.627229</td>\n",
              "      <td>0.190098</td>\n",
              "      <td>35.676218</td>\n",
              "      <td>153.786869</td>\n",
              "      <td>189.463088</td>\n",
              "    </tr>\n",
              "    <tr>\n",
              "      <th>std</th>\n",
              "      <td>5017.0295</td>\n",
              "      <td>1.106918</td>\n",
              "      <td>0.500008</td>\n",
              "      <td>3.438776</td>\n",
              "      <td>6.914405</td>\n",
              "      <td>0.167165</td>\n",
              "      <td>2.005771</td>\n",
              "      <td>0.465431</td>\n",
              "      <td>0.639357</td>\n",
              "      <td>0.192556</td>\n",
              "      <td>0.171850</td>\n",
              "      <td>0.192930</td>\n",
              "      <td>0.122340</td>\n",
              "      <td>49.305030</td>\n",
              "      <td>151.357286</td>\n",
              "      <td>181.387599</td>\n",
              "    </tr>\n",
              "    <tr>\n",
              "      <th>min</th>\n",
              "      <td>1.0000</td>\n",
              "      <td>1.000000</td>\n",
              "      <td>0.000000</td>\n",
              "      <td>1.000000</td>\n",
              "      <td>0.000000</td>\n",
              "      <td>0.000000</td>\n",
              "      <td>0.000000</td>\n",
              "      <td>0.000000</td>\n",
              "      <td>1.000000</td>\n",
              "      <td>0.020000</td>\n",
              "      <td>0.000000</td>\n",
              "      <td>0.000000</td>\n",
              "      <td>0.000000</td>\n",
              "      <td>0.000000</td>\n",
              "      <td>0.000000</td>\n",
              "      <td>1.000000</td>\n",
              "    </tr>\n",
              "    <tr>\n",
              "      <th>25%</th>\n",
              "      <td>4345.5000</td>\n",
              "      <td>2.000000</td>\n",
              "      <td>0.000000</td>\n",
              "      <td>4.000000</td>\n",
              "      <td>6.000000</td>\n",
              "      <td>0.000000</td>\n",
              "      <td>1.000000</td>\n",
              "      <td>0.000000</td>\n",
              "      <td>1.000000</td>\n",
              "      <td>0.340000</td>\n",
              "      <td>0.333300</td>\n",
              "      <td>0.480000</td>\n",
              "      <td>0.104500</td>\n",
              "      <td>4.000000</td>\n",
              "      <td>34.000000</td>\n",
              "      <td>40.000000</td>\n",
              "    </tr>\n",
              "    <tr>\n",
              "      <th>50%</th>\n",
              "      <td>8690.0000</td>\n",
              "      <td>3.000000</td>\n",
              "      <td>1.000000</td>\n",
              "      <td>7.000000</td>\n",
              "      <td>12.000000</td>\n",
              "      <td>0.000000</td>\n",
              "      <td>3.000000</td>\n",
              "      <td>1.000000</td>\n",
              "      <td>1.000000</td>\n",
              "      <td>0.500000</td>\n",
              "      <td>0.484800</td>\n",
              "      <td>0.630000</td>\n",
              "      <td>0.194000</td>\n",
              "      <td>17.000000</td>\n",
              "      <td>115.000000</td>\n",
              "      <td>142.000000</td>\n",
              "    </tr>\n",
              "    <tr>\n",
              "      <th>75%</th>\n",
              "      <td>13034.5000</td>\n",
              "      <td>3.000000</td>\n",
              "      <td>1.000000</td>\n",
              "      <td>10.000000</td>\n",
              "      <td>18.000000</td>\n",
              "      <td>0.000000</td>\n",
              "      <td>5.000000</td>\n",
              "      <td>1.000000</td>\n",
              "      <td>2.000000</td>\n",
              "      <td>0.660000</td>\n",
              "      <td>0.621200</td>\n",
              "      <td>0.780000</td>\n",
              "      <td>0.253700</td>\n",
              "      <td>48.000000</td>\n",
              "      <td>220.000000</td>\n",
              "      <td>281.000000</td>\n",
              "    </tr>\n",
              "    <tr>\n",
              "      <th>max</th>\n",
              "      <td>17379.0000</td>\n",
              "      <td>4.000000</td>\n",
              "      <td>1.000000</td>\n",
              "      <td>12.000000</td>\n",
              "      <td>23.000000</td>\n",
              "      <td>1.000000</td>\n",
              "      <td>6.000000</td>\n",
              "      <td>1.000000</td>\n",
              "      <td>4.000000</td>\n",
              "      <td>1.000000</td>\n",
              "      <td>1.000000</td>\n",
              "      <td>1.000000</td>\n",
              "      <td>0.850700</td>\n",
              "      <td>367.000000</td>\n",
              "      <td>886.000000</td>\n",
              "      <td>977.000000</td>\n",
              "    </tr>\n",
              "  </tbody>\n",
              "</table>\n",
              "</div>"
            ],
            "text/plain": [
              "          instant        season            yr          mnth            hr  \\\n",
              "count  17379.0000  17379.000000  17379.000000  17379.000000  17379.000000   \n",
              "mean    8690.0000      2.501640      0.502561      6.537775     11.546752   \n",
              "std     5017.0295      1.106918      0.500008      3.438776      6.914405   \n",
              "min        1.0000      1.000000      0.000000      1.000000      0.000000   \n",
              "25%     4345.5000      2.000000      0.000000      4.000000      6.000000   \n",
              "50%     8690.0000      3.000000      1.000000      7.000000     12.000000   \n",
              "75%    13034.5000      3.000000      1.000000     10.000000     18.000000   \n",
              "max    17379.0000      4.000000      1.000000     12.000000     23.000000   \n",
              "\n",
              "            holiday       weekday    workingday    weathersit          temp  \\\n",
              "count  17379.000000  17379.000000  17379.000000  17379.000000  17379.000000   \n",
              "mean       0.028770      3.003683      0.682721      1.425283      0.496987   \n",
              "std        0.167165      2.005771      0.465431      0.639357      0.192556   \n",
              "min        0.000000      0.000000      0.000000      1.000000      0.020000   \n",
              "25%        0.000000      1.000000      0.000000      1.000000      0.340000   \n",
              "50%        0.000000      3.000000      1.000000      1.000000      0.500000   \n",
              "75%        0.000000      5.000000      1.000000      2.000000      0.660000   \n",
              "max        1.000000      6.000000      1.000000      4.000000      1.000000   \n",
              "\n",
              "              atemp           hum     windspeed        casual    registered  \\\n",
              "count  17379.000000  17379.000000  17379.000000  17379.000000  17379.000000   \n",
              "mean       0.475775      0.627229      0.190098     35.676218    153.786869   \n",
              "std        0.171850      0.192930      0.122340     49.305030    151.357286   \n",
              "min        0.000000      0.000000      0.000000      0.000000      0.000000   \n",
              "25%        0.333300      0.480000      0.104500      4.000000     34.000000   \n",
              "50%        0.484800      0.630000      0.194000     17.000000    115.000000   \n",
              "75%        0.621200      0.780000      0.253700     48.000000    220.000000   \n",
              "max        1.000000      1.000000      0.850700    367.000000    886.000000   \n",
              "\n",
              "                cnt  \n",
              "count  17379.000000  \n",
              "mean     189.463088  \n",
              "std      181.387599  \n",
              "min        1.000000  \n",
              "25%       40.000000  \n",
              "50%      142.000000  \n",
              "75%      281.000000  \n",
              "max      977.000000  "
            ]
          },
          "execution_count": 11,
          "metadata": {},
          "output_type": "execute_result"
        }
      ],
      "source": [
        "df_hour.describe()"
      ]
    },
    {
      "cell_type": "markdown",
      "metadata": {},
      "source": [
        "    Setelah melakukan pengecekkan, tidak ditemukan keanehan pada nilai statistik data."
      ]
    },
    {
      "cell_type": "markdown",
      "metadata": {
        "id": "EhN5R4hr8DC1"
      },
      "source": [
        "### Cleaning Data\n",
        "#### Membersihkan tabel df_day\n",
        "#### Menghapus beberapa kolom yang tidak dibutuhkan\n",
        "    Melakukan pembersihan data berdasarkan temuan dalam penilaian data"
      ]
    },
    {
      "cell_type": "code",
      "execution_count": 12,
      "metadata": {
        "id": "jVnYpprE9Evz"
      },
      "outputs": [
        {
          "data": {
            "text/html": [
              "<div>\n",
              "<style scoped>\n",
              "    .dataframe tbody tr th:only-of-type {\n",
              "        vertical-align: middle;\n",
              "    }\n",
              "\n",
              "    .dataframe tbody tr th {\n",
              "        vertical-align: top;\n",
              "    }\n",
              "\n",
              "    .dataframe thead th {\n",
              "        text-align: right;\n",
              "    }\n",
              "</style>\n",
              "<table border=\"1\" class=\"dataframe\">\n",
              "  <thead>\n",
              "    <tr style=\"text-align: right;\">\n",
              "      <th></th>\n",
              "      <th>instant</th>\n",
              "      <th>dteday</th>\n",
              "      <th>season</th>\n",
              "      <th>weathersit</th>\n",
              "      <th>temp</th>\n",
              "      <th>atemp</th>\n",
              "      <th>hum</th>\n",
              "      <th>windspeed</th>\n",
              "      <th>casual</th>\n",
              "      <th>registered</th>\n",
              "      <th>cnt</th>\n",
              "    </tr>\n",
              "  </thead>\n",
              "  <tbody>\n",
              "    <tr>\n",
              "      <th>0</th>\n",
              "      <td>1</td>\n",
              "      <td>2011-01-01</td>\n",
              "      <td>1</td>\n",
              "      <td>2</td>\n",
              "      <td>0.344167</td>\n",
              "      <td>0.363625</td>\n",
              "      <td>0.805833</td>\n",
              "      <td>0.160446</td>\n",
              "      <td>331</td>\n",
              "      <td>654</td>\n",
              "      <td>985</td>\n",
              "    </tr>\n",
              "    <tr>\n",
              "      <th>1</th>\n",
              "      <td>2</td>\n",
              "      <td>2011-01-02</td>\n",
              "      <td>1</td>\n",
              "      <td>2</td>\n",
              "      <td>0.363478</td>\n",
              "      <td>0.353739</td>\n",
              "      <td>0.696087</td>\n",
              "      <td>0.248539</td>\n",
              "      <td>131</td>\n",
              "      <td>670</td>\n",
              "      <td>801</td>\n",
              "    </tr>\n",
              "    <tr>\n",
              "      <th>2</th>\n",
              "      <td>3</td>\n",
              "      <td>2011-01-03</td>\n",
              "      <td>1</td>\n",
              "      <td>1</td>\n",
              "      <td>0.196364</td>\n",
              "      <td>0.189405</td>\n",
              "      <td>0.437273</td>\n",
              "      <td>0.248309</td>\n",
              "      <td>120</td>\n",
              "      <td>1229</td>\n",
              "      <td>1349</td>\n",
              "    </tr>\n",
              "    <tr>\n",
              "      <th>3</th>\n",
              "      <td>4</td>\n",
              "      <td>2011-01-04</td>\n",
              "      <td>1</td>\n",
              "      <td>1</td>\n",
              "      <td>0.200000</td>\n",
              "      <td>0.212122</td>\n",
              "      <td>0.590435</td>\n",
              "      <td>0.160296</td>\n",
              "      <td>108</td>\n",
              "      <td>1454</td>\n",
              "      <td>1562</td>\n",
              "    </tr>\n",
              "    <tr>\n",
              "      <th>4</th>\n",
              "      <td>5</td>\n",
              "      <td>2011-01-05</td>\n",
              "      <td>1</td>\n",
              "      <td>1</td>\n",
              "      <td>0.226957</td>\n",
              "      <td>0.229270</td>\n",
              "      <td>0.436957</td>\n",
              "      <td>0.186900</td>\n",
              "      <td>82</td>\n",
              "      <td>1518</td>\n",
              "      <td>1600</td>\n",
              "    </tr>\n",
              "  </tbody>\n",
              "</table>\n",
              "</div>"
            ],
            "text/plain": [
              "   instant      dteday  season  weathersit      temp     atemp       hum  \\\n",
              "0        1  2011-01-01       1           2  0.344167  0.363625  0.805833   \n",
              "1        2  2011-01-02       1           2  0.363478  0.353739  0.696087   \n",
              "2        3  2011-01-03       1           1  0.196364  0.189405  0.437273   \n",
              "3        4  2011-01-04       1           1  0.200000  0.212122  0.590435   \n",
              "4        5  2011-01-05       1           1  0.226957  0.229270  0.436957   \n",
              "\n",
              "   windspeed  casual  registered   cnt  \n",
              "0   0.160446     331         654   985  \n",
              "1   0.248539     131         670   801  \n",
              "2   0.248309     120        1229  1349  \n",
              "3   0.160296     108        1454  1562  \n",
              "4   0.186900      82        1518  1600  "
            ]
          },
          "execution_count": 12,
          "metadata": {},
          "output_type": "execute_result"
        }
      ],
      "source": [
        "day_col_drop = ['yr', 'mnth', 'holiday', 'weekday', 'workingday']\n",
        "df_day.drop(day_col_drop, axis=1, inplace=True)\n",
        "\n",
        "df_day.head()"
      ]
    },
    {
      "cell_type": "markdown",
      "metadata": {
        "id": "Q_5ejIqckiSP"
      },
      "source": [
        "    Beberapa kolom(column) dihapus karena tidak diperlukan berdasarkan pertanyaan yang telah ditetapkan.\n",
        "    - yr: berisi informasi tahun penyewaan sepeda.\n",
        "    - mnth: berisi informasi bulan penyewaan sepeda.\n",
        "    - holiday: berisi berapa jumlah total pada penyewaan sepeda di hari libur.\n",
        "    - weekday: berisi informasi jumlah total pada penyewaan sepeda di hari biasa.\n",
        "    - workingday: berisi informasi jumlah total pada penyewaan sepeda di hari kerja."
      ]
    },
    {
      "cell_type": "markdown",
      "metadata": {},
      "source": [
        "#### Merubah penamaan kolom"
      ]
    },
    {
      "cell_type": "code",
      "execution_count": 13,
      "metadata": {},
      "outputs": [
        {
          "data": {
            "text/html": [
              "<div>\n",
              "<style scoped>\n",
              "    .dataframe tbody tr th:only-of-type {\n",
              "        vertical-align: middle;\n",
              "    }\n",
              "\n",
              "    .dataframe tbody tr th {\n",
              "        vertical-align: top;\n",
              "    }\n",
              "\n",
              "    .dataframe thead th {\n",
              "        text-align: right;\n",
              "    }\n",
              "</style>\n",
              "<table border=\"1\" class=\"dataframe\">\n",
              "  <thead>\n",
              "    <tr style=\"text-align: right;\">\n",
              "      <th></th>\n",
              "      <th>instant</th>\n",
              "      <th>date</th>\n",
              "      <th>season</th>\n",
              "      <th>weather</th>\n",
              "      <th>temperature</th>\n",
              "      <th>atemp</th>\n",
              "      <th>humidity</th>\n",
              "      <th>windspeed</th>\n",
              "      <th>casual</th>\n",
              "      <th>registered</th>\n",
              "      <th>total</th>\n",
              "    </tr>\n",
              "  </thead>\n",
              "  <tbody>\n",
              "    <tr>\n",
              "      <th>0</th>\n",
              "      <td>1</td>\n",
              "      <td>2011-01-01</td>\n",
              "      <td>1</td>\n",
              "      <td>2</td>\n",
              "      <td>0.344167</td>\n",
              "      <td>0.363625</td>\n",
              "      <td>0.805833</td>\n",
              "      <td>0.160446</td>\n",
              "      <td>331</td>\n",
              "      <td>654</td>\n",
              "      <td>985</td>\n",
              "    </tr>\n",
              "    <tr>\n",
              "      <th>1</th>\n",
              "      <td>2</td>\n",
              "      <td>2011-01-02</td>\n",
              "      <td>1</td>\n",
              "      <td>2</td>\n",
              "      <td>0.363478</td>\n",
              "      <td>0.353739</td>\n",
              "      <td>0.696087</td>\n",
              "      <td>0.248539</td>\n",
              "      <td>131</td>\n",
              "      <td>670</td>\n",
              "      <td>801</td>\n",
              "    </tr>\n",
              "    <tr>\n",
              "      <th>2</th>\n",
              "      <td>3</td>\n",
              "      <td>2011-01-03</td>\n",
              "      <td>1</td>\n",
              "      <td>1</td>\n",
              "      <td>0.196364</td>\n",
              "      <td>0.189405</td>\n",
              "      <td>0.437273</td>\n",
              "      <td>0.248309</td>\n",
              "      <td>120</td>\n",
              "      <td>1229</td>\n",
              "      <td>1349</td>\n",
              "    </tr>\n",
              "    <tr>\n",
              "      <th>3</th>\n",
              "      <td>4</td>\n",
              "      <td>2011-01-04</td>\n",
              "      <td>1</td>\n",
              "      <td>1</td>\n",
              "      <td>0.200000</td>\n",
              "      <td>0.212122</td>\n",
              "      <td>0.590435</td>\n",
              "      <td>0.160296</td>\n",
              "      <td>108</td>\n",
              "      <td>1454</td>\n",
              "      <td>1562</td>\n",
              "    </tr>\n",
              "    <tr>\n",
              "      <th>4</th>\n",
              "      <td>5</td>\n",
              "      <td>2011-01-05</td>\n",
              "      <td>1</td>\n",
              "      <td>1</td>\n",
              "      <td>0.226957</td>\n",
              "      <td>0.229270</td>\n",
              "      <td>0.436957</td>\n",
              "      <td>0.186900</td>\n",
              "      <td>82</td>\n",
              "      <td>1518</td>\n",
              "      <td>1600</td>\n",
              "    </tr>\n",
              "  </tbody>\n",
              "</table>\n",
              "</div>"
            ],
            "text/plain": [
              "   instant        date  season  weather  temperature     atemp  humidity  \\\n",
              "0        1  2011-01-01       1        2     0.344167  0.363625  0.805833   \n",
              "1        2  2011-01-02       1        2     0.363478  0.353739  0.696087   \n",
              "2        3  2011-01-03       1        1     0.196364  0.189405  0.437273   \n",
              "3        4  2011-01-04       1        1     0.200000  0.212122  0.590435   \n",
              "4        5  2011-01-05       1        1     0.226957  0.229270  0.436957   \n",
              "\n",
              "   windspeed  casual  registered  total  \n",
              "0   0.160446     331         654    985  \n",
              "1   0.248539     131         670    801  \n",
              "2   0.248309     120        1229   1349  \n",
              "3   0.160296     108        1454   1562  \n",
              "4   0.186900      82        1518   1600  "
            ]
          },
          "execution_count": 13,
          "metadata": {},
          "output_type": "execute_result"
        }
      ],
      "source": [
        "df_day.rename(columns={\n",
        "    'dteday' : 'date',\n",
        "    'temp' : 'temperature',\n",
        "    'hum' : 'humidity',\n",
        "    'weathersit' : 'weather',\n",
        "    'cnt' : 'total'\n",
        "}, inplace=True)\n",
        "\n",
        "df_day.head()"
      ]
    },
    {
      "cell_type": "markdown",
      "metadata": {},
      "source": [
        "    Penamaan kolom diubah untuk mudah mengenali kolom dan proses analisa data."
      ]
    },
    {
      "cell_type": "markdown",
      "metadata": {},
      "source": [
        "#### Mapping nilai kolom berupa angka menjadi keterangan"
      ]
    },
    {
      "cell_type": "markdown",
      "metadata": {},
      "source": [
        "    Mapping pada nilai beberapa kolom data dilakukan untuk mempermudah analisa data dan visualisasi data."
      ]
    },
    {
      "cell_type": "code",
      "execution_count": 14,
      "metadata": {},
      "outputs": [
        {
          "data": {
            "text/html": [
              "<div>\n",
              "<style scoped>\n",
              "    .dataframe tbody tr th:only-of-type {\n",
              "        vertical-align: middle;\n",
              "    }\n",
              "\n",
              "    .dataframe tbody tr th {\n",
              "        vertical-align: top;\n",
              "    }\n",
              "\n",
              "    .dataframe thead th {\n",
              "        text-align: right;\n",
              "    }\n",
              "</style>\n",
              "<table border=\"1\" class=\"dataframe\">\n",
              "  <thead>\n",
              "    <tr style=\"text-align: right;\">\n",
              "      <th></th>\n",
              "      <th>instant</th>\n",
              "      <th>date</th>\n",
              "      <th>season</th>\n",
              "      <th>weather</th>\n",
              "      <th>temperature</th>\n",
              "      <th>atemp</th>\n",
              "      <th>humidity</th>\n",
              "      <th>windspeed</th>\n",
              "      <th>casual</th>\n",
              "      <th>registered</th>\n",
              "      <th>total</th>\n",
              "    </tr>\n",
              "  </thead>\n",
              "  <tbody>\n",
              "    <tr>\n",
              "      <th>0</th>\n",
              "      <td>1</td>\n",
              "      <td>2011-01-01</td>\n",
              "      <td>springer</td>\n",
              "      <td>Mist</td>\n",
              "      <td>0.344167</td>\n",
              "      <td>0.363625</td>\n",
              "      <td>0.805833</td>\n",
              "      <td>0.160446</td>\n",
              "      <td>331</td>\n",
              "      <td>654</td>\n",
              "      <td>985</td>\n",
              "    </tr>\n",
              "    <tr>\n",
              "      <th>1</th>\n",
              "      <td>2</td>\n",
              "      <td>2011-01-02</td>\n",
              "      <td>springer</td>\n",
              "      <td>Mist</td>\n",
              "      <td>0.363478</td>\n",
              "      <td>0.353739</td>\n",
              "      <td>0.696087</td>\n",
              "      <td>0.248539</td>\n",
              "      <td>131</td>\n",
              "      <td>670</td>\n",
              "      <td>801</td>\n",
              "    </tr>\n",
              "    <tr>\n",
              "      <th>2</th>\n",
              "      <td>3</td>\n",
              "      <td>2011-01-03</td>\n",
              "      <td>springer</td>\n",
              "      <td>clear</td>\n",
              "      <td>0.196364</td>\n",
              "      <td>0.189405</td>\n",
              "      <td>0.437273</td>\n",
              "      <td>0.248309</td>\n",
              "      <td>120</td>\n",
              "      <td>1229</td>\n",
              "      <td>1349</td>\n",
              "    </tr>\n",
              "    <tr>\n",
              "      <th>3</th>\n",
              "      <td>4</td>\n",
              "      <td>2011-01-04</td>\n",
              "      <td>springer</td>\n",
              "      <td>clear</td>\n",
              "      <td>0.200000</td>\n",
              "      <td>0.212122</td>\n",
              "      <td>0.590435</td>\n",
              "      <td>0.160296</td>\n",
              "      <td>108</td>\n",
              "      <td>1454</td>\n",
              "      <td>1562</td>\n",
              "    </tr>\n",
              "    <tr>\n",
              "      <th>4</th>\n",
              "      <td>5</td>\n",
              "      <td>2011-01-05</td>\n",
              "      <td>springer</td>\n",
              "      <td>clear</td>\n",
              "      <td>0.226957</td>\n",
              "      <td>0.229270</td>\n",
              "      <td>0.436957</td>\n",
              "      <td>0.186900</td>\n",
              "      <td>82</td>\n",
              "      <td>1518</td>\n",
              "      <td>1600</td>\n",
              "    </tr>\n",
              "  </tbody>\n",
              "</table>\n",
              "</div>"
            ],
            "text/plain": [
              "   instant        date    season weather  temperature     atemp  humidity  \\\n",
              "0        1  2011-01-01  springer    Mist     0.344167  0.363625  0.805833   \n",
              "1        2  2011-01-02  springer    Mist     0.363478  0.353739  0.696087   \n",
              "2        3  2011-01-03  springer   clear     0.196364  0.189405  0.437273   \n",
              "3        4  2011-01-04  springer   clear     0.200000  0.212122  0.590435   \n",
              "4        5  2011-01-05  springer   clear     0.226957  0.229270  0.436957   \n",
              "\n",
              "   windspeed  casual  registered  total  \n",
              "0   0.160446     331         654    985  \n",
              "1   0.248539     131         670    801  \n",
              "2   0.248309     120        1229   1349  \n",
              "3   0.160296     108        1454   1562  \n",
              "4   0.186900      82        1518   1600  "
            ]
          },
          "execution_count": 14,
          "metadata": {},
          "output_type": "execute_result"
        }
      ],
      "source": [
        "# Mapping pada kolom season\n",
        "mapping_season = {\n",
        "    1: 'springer', 2: 'summer',\n",
        "    3: 'fall', 4: 'winter'\n",
        "}\n",
        "df_day['season'] = df_day['season'].map(mapping_season)\n",
        "\n",
        "# Mapping pada kolom cuaca\n",
        "mapping_weather = {\n",
        "    1: 'clear', 2: 'Mist',\n",
        "    3: 'Light Rain/Snow', 4: 'Heavy Rain/Snow'\n",
        "}\n",
        "df_day['weather'] = df_day['weather'].map(mapping_weather)\n",
        "\n",
        "df_day.head()"
      ]
    },
    {
      "cell_type": "markdown",
      "metadata": {},
      "source": [
        "#### Memperbaiki tipe data"
      ]
    },
    {
      "cell_type": "code",
      "execution_count": 15,
      "metadata": {},
      "outputs": [
        {
          "name": "stdout",
          "output_type": "stream",
          "text": [
            "<class 'pandas.core.frame.DataFrame'>\n",
            "RangeIndex: 731 entries, 0 to 730\n",
            "Data columns (total 11 columns):\n",
            " #   Column       Non-Null Count  Dtype  \n",
            "---  ------       --------------  -----  \n",
            " 0   instant      731 non-null    int64  \n",
            " 1   date         731 non-null    object \n",
            " 2   season       731 non-null    object \n",
            " 3   weather      731 non-null    object \n",
            " 4   temperature  731 non-null    float64\n",
            " 5   atemp        731 non-null    float64\n",
            " 6   humidity     731 non-null    float64\n",
            " 7   windspeed    731 non-null    float64\n",
            " 8   casual       731 non-null    int64  \n",
            " 9   registered   731 non-null    int64  \n",
            " 10  total        731 non-null    int64  \n",
            "dtypes: float64(4), int64(4), object(3)\n",
            "memory usage: 62.9+ KB\n"
          ]
        }
      ],
      "source": [
        "df_day.info()"
      ]
    },
    {
      "cell_type": "code",
      "execution_count": 16,
      "metadata": {},
      "outputs": [
        {
          "name": "stdout",
          "output_type": "stream",
          "text": [
            "<class 'pandas.core.frame.DataFrame'>\n",
            "RangeIndex: 731 entries, 0 to 730\n",
            "Data columns (total 11 columns):\n",
            " #   Column       Non-Null Count  Dtype         \n",
            "---  ------       --------------  -----         \n",
            " 0   instant      731 non-null    int64         \n",
            " 1   date         731 non-null    datetime64[ns]\n",
            " 2   season       731 non-null    category      \n",
            " 3   weather      731 non-null    category      \n",
            " 4   temperature  731 non-null    float64       \n",
            " 5   atemp        731 non-null    float64       \n",
            " 6   humidity     731 non-null    float64       \n",
            " 7   windspeed    731 non-null    float64       \n",
            " 8   casual       731 non-null    int64         \n",
            " 9   registered   731 non-null    int64         \n",
            " 10  total        731 non-null    int64         \n",
            "dtypes: category(2), datetime64[ns](1), float64(4), int64(4)\n",
            "memory usage: 53.3 KB\n"
          ]
        }
      ],
      "source": [
        "#merubah tipe data kolom ke datetime\n",
        "df_day[\"date\"] = pd.to_datetime(df_day[\"date\"])\n",
        "\n",
        "#merubah tipe data kolom ke category\n",
        "df_day['season'] = df_day['season'].astype('category')\n",
        "df_day['weather'] = df_day['weather'].astype('category')\n",
        "\n",
        "df_day.info()"
      ]
    },
    {
      "cell_type": "markdown",
      "metadata": {},
      "source": [
        "    Data type pada kolom `date` sudah diubah menjadi datetime64[ns].Dan beberapa kolom dengan tipe data `object` dan `int64` diubah menjadi `category`, karena merupakan data dengan nilai yang berulang sehingga dapat menghemat memori dan meningkatkan efisiensi eksekusi program."
      ]
    },
    {
      "cell_type": "markdown",
      "metadata": {},
      "source": [
        "#### Membersihkan tabel hour_df"
      ]
    },
    {
      "cell_type": "markdown",
      "metadata": {},
      "source": [
        "##### Menghapus beberapa kolom yang tidak dibutuhkan"
      ]
    },
    {
      "cell_type": "code",
      "execution_count": 17,
      "metadata": {},
      "outputs": [
        {
          "data": {
            "text/html": [
              "<div>\n",
              "<style scoped>\n",
              "    .dataframe tbody tr th:only-of-type {\n",
              "        vertical-align: middle;\n",
              "    }\n",
              "\n",
              "    .dataframe tbody tr th {\n",
              "        vertical-align: top;\n",
              "    }\n",
              "\n",
              "    .dataframe thead th {\n",
              "        text-align: right;\n",
              "    }\n",
              "</style>\n",
              "<table border=\"1\" class=\"dataframe\">\n",
              "  <thead>\n",
              "    <tr style=\"text-align: right;\">\n",
              "      <th></th>\n",
              "      <th>instant</th>\n",
              "      <th>dteday</th>\n",
              "      <th>season</th>\n",
              "      <th>hr</th>\n",
              "      <th>weathersit</th>\n",
              "      <th>temp</th>\n",
              "      <th>atemp</th>\n",
              "      <th>hum</th>\n",
              "      <th>windspeed</th>\n",
              "      <th>casual</th>\n",
              "      <th>registered</th>\n",
              "      <th>cnt</th>\n",
              "    </tr>\n",
              "  </thead>\n",
              "  <tbody>\n",
              "    <tr>\n",
              "      <th>0</th>\n",
              "      <td>1</td>\n",
              "      <td>2011-01-01</td>\n",
              "      <td>1</td>\n",
              "      <td>0</td>\n",
              "      <td>1</td>\n",
              "      <td>0.24</td>\n",
              "      <td>0.2879</td>\n",
              "      <td>0.81</td>\n",
              "      <td>0.0</td>\n",
              "      <td>3</td>\n",
              "      <td>13</td>\n",
              "      <td>16</td>\n",
              "    </tr>\n",
              "    <tr>\n",
              "      <th>1</th>\n",
              "      <td>2</td>\n",
              "      <td>2011-01-01</td>\n",
              "      <td>1</td>\n",
              "      <td>1</td>\n",
              "      <td>1</td>\n",
              "      <td>0.22</td>\n",
              "      <td>0.2727</td>\n",
              "      <td>0.80</td>\n",
              "      <td>0.0</td>\n",
              "      <td>8</td>\n",
              "      <td>32</td>\n",
              "      <td>40</td>\n",
              "    </tr>\n",
              "    <tr>\n",
              "      <th>2</th>\n",
              "      <td>3</td>\n",
              "      <td>2011-01-01</td>\n",
              "      <td>1</td>\n",
              "      <td>2</td>\n",
              "      <td>1</td>\n",
              "      <td>0.22</td>\n",
              "      <td>0.2727</td>\n",
              "      <td>0.80</td>\n",
              "      <td>0.0</td>\n",
              "      <td>5</td>\n",
              "      <td>27</td>\n",
              "      <td>32</td>\n",
              "    </tr>\n",
              "    <tr>\n",
              "      <th>3</th>\n",
              "      <td>4</td>\n",
              "      <td>2011-01-01</td>\n",
              "      <td>1</td>\n",
              "      <td>3</td>\n",
              "      <td>1</td>\n",
              "      <td>0.24</td>\n",
              "      <td>0.2879</td>\n",
              "      <td>0.75</td>\n",
              "      <td>0.0</td>\n",
              "      <td>3</td>\n",
              "      <td>10</td>\n",
              "      <td>13</td>\n",
              "    </tr>\n",
              "    <tr>\n",
              "      <th>4</th>\n",
              "      <td>5</td>\n",
              "      <td>2011-01-01</td>\n",
              "      <td>1</td>\n",
              "      <td>4</td>\n",
              "      <td>1</td>\n",
              "      <td>0.24</td>\n",
              "      <td>0.2879</td>\n",
              "      <td>0.75</td>\n",
              "      <td>0.0</td>\n",
              "      <td>0</td>\n",
              "      <td>1</td>\n",
              "      <td>1</td>\n",
              "    </tr>\n",
              "  </tbody>\n",
              "</table>\n",
              "</div>"
            ],
            "text/plain": [
              "   instant      dteday  season  hr  weathersit  temp   atemp   hum  windspeed  \\\n",
              "0        1  2011-01-01       1   0           1  0.24  0.2879  0.81        0.0   \n",
              "1        2  2011-01-01       1   1           1  0.22  0.2727  0.80        0.0   \n",
              "2        3  2011-01-01       1   2           1  0.22  0.2727  0.80        0.0   \n",
              "3        4  2011-01-01       1   3           1  0.24  0.2879  0.75        0.0   \n",
              "4        5  2011-01-01       1   4           1  0.24  0.2879  0.75        0.0   \n",
              "\n",
              "   casual  registered  cnt  \n",
              "0       3          13   16  \n",
              "1       8          32   40  \n",
              "2       5          27   32  \n",
              "3       3          10   13  \n",
              "4       0           1    1  "
            ]
          },
          "execution_count": 17,
          "metadata": {},
          "output_type": "execute_result"
        }
      ],
      "source": [
        "hour_col_drop = ['yr', 'mnth', 'hr', 'holiday', 'weekday', 'workingday']\n",
        "df_hour.drop(day_col_drop, axis=1, inplace=True)\n",
        "\n",
        "df_hour.head()"
      ]
    },
    {
      "cell_type": "markdown",
      "metadata": {},
      "source": [
        "    Beberapa kolom(column) dihapus karena tidak diperlukan berdasarkan pertanyaan yang telah ditetapkan.\n",
        "    - yr: berisi informasi tahun penyewaan sepeda.\n",
        "    - mnth: berisi informasi bulan penyewaan sepeda.\n",
        "    - holiday: berisi berapa jumlah total pada penyewaan sepeda di hari libur.\n",
        "    - weekday: berisi informasi jumlah total pada penyewaan sepeda di hari biasa.\n",
        "    - workingday: berisi informasi jumlah total pada penyewaan sepeda di hari kerja."
      ]
    },
    {
      "cell_type": "markdown",
      "metadata": {},
      "source": [
        "##### Merubah penamaan kolom"
      ]
    },
    {
      "cell_type": "code",
      "execution_count": 18,
      "metadata": {},
      "outputs": [
        {
          "data": {
            "text/html": [
              "<div>\n",
              "<style scoped>\n",
              "    .dataframe tbody tr th:only-of-type {\n",
              "        vertical-align: middle;\n",
              "    }\n",
              "\n",
              "    .dataframe tbody tr th {\n",
              "        vertical-align: top;\n",
              "    }\n",
              "\n",
              "    .dataframe thead th {\n",
              "        text-align: right;\n",
              "    }\n",
              "</style>\n",
              "<table border=\"1\" class=\"dataframe\">\n",
              "  <thead>\n",
              "    <tr style=\"text-align: right;\">\n",
              "      <th></th>\n",
              "      <th>instant</th>\n",
              "      <th>date</th>\n",
              "      <th>season</th>\n",
              "      <th>hr</th>\n",
              "      <th>weather</th>\n",
              "      <th>temperature</th>\n",
              "      <th>atemp</th>\n",
              "      <th>humidity</th>\n",
              "      <th>windspeed</th>\n",
              "      <th>casual</th>\n",
              "      <th>registered</th>\n",
              "      <th>total</th>\n",
              "    </tr>\n",
              "  </thead>\n",
              "  <tbody>\n",
              "    <tr>\n",
              "      <th>0</th>\n",
              "      <td>1</td>\n",
              "      <td>2011-01-01</td>\n",
              "      <td>1</td>\n",
              "      <td>0</td>\n",
              "      <td>1</td>\n",
              "      <td>0.24</td>\n",
              "      <td>0.2879</td>\n",
              "      <td>0.81</td>\n",
              "      <td>0.0</td>\n",
              "      <td>3</td>\n",
              "      <td>13</td>\n",
              "      <td>16</td>\n",
              "    </tr>\n",
              "    <tr>\n",
              "      <th>1</th>\n",
              "      <td>2</td>\n",
              "      <td>2011-01-01</td>\n",
              "      <td>1</td>\n",
              "      <td>1</td>\n",
              "      <td>1</td>\n",
              "      <td>0.22</td>\n",
              "      <td>0.2727</td>\n",
              "      <td>0.80</td>\n",
              "      <td>0.0</td>\n",
              "      <td>8</td>\n",
              "      <td>32</td>\n",
              "      <td>40</td>\n",
              "    </tr>\n",
              "    <tr>\n",
              "      <th>2</th>\n",
              "      <td>3</td>\n",
              "      <td>2011-01-01</td>\n",
              "      <td>1</td>\n",
              "      <td>2</td>\n",
              "      <td>1</td>\n",
              "      <td>0.22</td>\n",
              "      <td>0.2727</td>\n",
              "      <td>0.80</td>\n",
              "      <td>0.0</td>\n",
              "      <td>5</td>\n",
              "      <td>27</td>\n",
              "      <td>32</td>\n",
              "    </tr>\n",
              "    <tr>\n",
              "      <th>3</th>\n",
              "      <td>4</td>\n",
              "      <td>2011-01-01</td>\n",
              "      <td>1</td>\n",
              "      <td>3</td>\n",
              "      <td>1</td>\n",
              "      <td>0.24</td>\n",
              "      <td>0.2879</td>\n",
              "      <td>0.75</td>\n",
              "      <td>0.0</td>\n",
              "      <td>3</td>\n",
              "      <td>10</td>\n",
              "      <td>13</td>\n",
              "    </tr>\n",
              "    <tr>\n",
              "      <th>4</th>\n",
              "      <td>5</td>\n",
              "      <td>2011-01-01</td>\n",
              "      <td>1</td>\n",
              "      <td>4</td>\n",
              "      <td>1</td>\n",
              "      <td>0.24</td>\n",
              "      <td>0.2879</td>\n",
              "      <td>0.75</td>\n",
              "      <td>0.0</td>\n",
              "      <td>0</td>\n",
              "      <td>1</td>\n",
              "      <td>1</td>\n",
              "    </tr>\n",
              "  </tbody>\n",
              "</table>\n",
              "</div>"
            ],
            "text/plain": [
              "   instant        date  season  hr  weather  temperature   atemp  humidity  \\\n",
              "0        1  2011-01-01       1   0        1         0.24  0.2879      0.81   \n",
              "1        2  2011-01-01       1   1        1         0.22  0.2727      0.80   \n",
              "2        3  2011-01-01       1   2        1         0.22  0.2727      0.80   \n",
              "3        4  2011-01-01       1   3        1         0.24  0.2879      0.75   \n",
              "4        5  2011-01-01       1   4        1         0.24  0.2879      0.75   \n",
              "\n",
              "   windspeed  casual  registered  total  \n",
              "0        0.0       3          13     16  \n",
              "1        0.0       8          32     40  \n",
              "2        0.0       5          27     32  \n",
              "3        0.0       3          10     13  \n",
              "4        0.0       0           1      1  "
            ]
          },
          "execution_count": 18,
          "metadata": {},
          "output_type": "execute_result"
        }
      ],
      "source": [
        "df_hour.rename(columns={\n",
        "    'dteday' : 'date',\n",
        "    'temp' : 'temperature',\n",
        "    'hum' : 'humidity',\n",
        "    'weathersit' : 'weather',\n",
        "    'cnt' : 'total'\n",
        "}, inplace=True)\n",
        "\n",
        "df_hour.head()"
      ]
    },
    {
      "cell_type": "markdown",
      "metadata": {},
      "source": [
        "    Penamaan kolom diubah untuk mudah mengenali kolom dan proses analisa data."
      ]
    },
    {
      "cell_type": "markdown",
      "metadata": {},
      "source": [
        "#### Mapping nilai kolom berupa angka menjadi keterangan"
      ]
    },
    {
      "cell_type": "markdown",
      "metadata": {},
      "source": [
        "    Mapping pada nilai beberapa kolom data dilakukan untuk mempermudah analisa data dan visualisasi data."
      ]
    },
    {
      "cell_type": "code",
      "execution_count": 19,
      "metadata": {},
      "outputs": [
        {
          "data": {
            "text/html": [
              "<div>\n",
              "<style scoped>\n",
              "    .dataframe tbody tr th:only-of-type {\n",
              "        vertical-align: middle;\n",
              "    }\n",
              "\n",
              "    .dataframe tbody tr th {\n",
              "        vertical-align: top;\n",
              "    }\n",
              "\n",
              "    .dataframe thead th {\n",
              "        text-align: right;\n",
              "    }\n",
              "</style>\n",
              "<table border=\"1\" class=\"dataframe\">\n",
              "  <thead>\n",
              "    <tr style=\"text-align: right;\">\n",
              "      <th></th>\n",
              "      <th>instant</th>\n",
              "      <th>date</th>\n",
              "      <th>season</th>\n",
              "      <th>hr</th>\n",
              "      <th>weather</th>\n",
              "      <th>temperature</th>\n",
              "      <th>atemp</th>\n",
              "      <th>humidity</th>\n",
              "      <th>windspeed</th>\n",
              "      <th>casual</th>\n",
              "      <th>registered</th>\n",
              "      <th>total</th>\n",
              "    </tr>\n",
              "  </thead>\n",
              "  <tbody>\n",
              "    <tr>\n",
              "      <th>0</th>\n",
              "      <td>1</td>\n",
              "      <td>2011-01-01</td>\n",
              "      <td>springer</td>\n",
              "      <td>0</td>\n",
              "      <td>clear</td>\n",
              "      <td>0.24</td>\n",
              "      <td>0.2879</td>\n",
              "      <td>0.81</td>\n",
              "      <td>0.0</td>\n",
              "      <td>3</td>\n",
              "      <td>13</td>\n",
              "      <td>16</td>\n",
              "    </tr>\n",
              "    <tr>\n",
              "      <th>1</th>\n",
              "      <td>2</td>\n",
              "      <td>2011-01-01</td>\n",
              "      <td>springer</td>\n",
              "      <td>1</td>\n",
              "      <td>clear</td>\n",
              "      <td>0.22</td>\n",
              "      <td>0.2727</td>\n",
              "      <td>0.80</td>\n",
              "      <td>0.0</td>\n",
              "      <td>8</td>\n",
              "      <td>32</td>\n",
              "      <td>40</td>\n",
              "    </tr>\n",
              "    <tr>\n",
              "      <th>2</th>\n",
              "      <td>3</td>\n",
              "      <td>2011-01-01</td>\n",
              "      <td>springer</td>\n",
              "      <td>2</td>\n",
              "      <td>clear</td>\n",
              "      <td>0.22</td>\n",
              "      <td>0.2727</td>\n",
              "      <td>0.80</td>\n",
              "      <td>0.0</td>\n",
              "      <td>5</td>\n",
              "      <td>27</td>\n",
              "      <td>32</td>\n",
              "    </tr>\n",
              "    <tr>\n",
              "      <th>3</th>\n",
              "      <td>4</td>\n",
              "      <td>2011-01-01</td>\n",
              "      <td>springer</td>\n",
              "      <td>3</td>\n",
              "      <td>clear</td>\n",
              "      <td>0.24</td>\n",
              "      <td>0.2879</td>\n",
              "      <td>0.75</td>\n",
              "      <td>0.0</td>\n",
              "      <td>3</td>\n",
              "      <td>10</td>\n",
              "      <td>13</td>\n",
              "    </tr>\n",
              "    <tr>\n",
              "      <th>4</th>\n",
              "      <td>5</td>\n",
              "      <td>2011-01-01</td>\n",
              "      <td>springer</td>\n",
              "      <td>4</td>\n",
              "      <td>clear</td>\n",
              "      <td>0.24</td>\n",
              "      <td>0.2879</td>\n",
              "      <td>0.75</td>\n",
              "      <td>0.0</td>\n",
              "      <td>0</td>\n",
              "      <td>1</td>\n",
              "      <td>1</td>\n",
              "    </tr>\n",
              "  </tbody>\n",
              "</table>\n",
              "</div>"
            ],
            "text/plain": [
              "   instant        date    season  hr weather  temperature   atemp  humidity  \\\n",
              "0        1  2011-01-01  springer   0   clear         0.24  0.2879      0.81   \n",
              "1        2  2011-01-01  springer   1   clear         0.22  0.2727      0.80   \n",
              "2        3  2011-01-01  springer   2   clear         0.22  0.2727      0.80   \n",
              "3        4  2011-01-01  springer   3   clear         0.24  0.2879      0.75   \n",
              "4        5  2011-01-01  springer   4   clear         0.24  0.2879      0.75   \n",
              "\n",
              "   windspeed  casual  registered  total  \n",
              "0        0.0       3          13     16  \n",
              "1        0.0       8          32     40  \n",
              "2        0.0       5          27     32  \n",
              "3        0.0       3          10     13  \n",
              "4        0.0       0           1      1  "
            ]
          },
          "execution_count": 19,
          "metadata": {},
          "output_type": "execute_result"
        }
      ],
      "source": [
        "df_hour['season'] = df_hour['season'].map(mapping_season)\n",
        "df_hour['weather'] = df_hour['weather'].map(mapping_weather)\n",
        "\n",
        "df_hour.head()"
      ]
    },
    {
      "cell_type": "markdown",
      "metadata": {},
      "source": [
        "#### Memperbaiki tipe data"
      ]
    },
    {
      "cell_type": "code",
      "execution_count": 20,
      "metadata": {},
      "outputs": [
        {
          "name": "stdout",
          "output_type": "stream",
          "text": [
            "<class 'pandas.core.frame.DataFrame'>\n",
            "RangeIndex: 17379 entries, 0 to 17378\n",
            "Data columns (total 12 columns):\n",
            " #   Column       Non-Null Count  Dtype  \n",
            "---  ------       --------------  -----  \n",
            " 0   instant      17379 non-null  int64  \n",
            " 1   date         17379 non-null  object \n",
            " 2   season       17379 non-null  object \n",
            " 3   hr           17379 non-null  int64  \n",
            " 4   weather      17379 non-null  object \n",
            " 5   temperature  17379 non-null  float64\n",
            " 6   atemp        17379 non-null  float64\n",
            " 7   humidity     17379 non-null  float64\n",
            " 8   windspeed    17379 non-null  float64\n",
            " 9   casual       17379 non-null  int64  \n",
            " 10  registered   17379 non-null  int64  \n",
            " 11  total        17379 non-null  int64  \n",
            "dtypes: float64(4), int64(5), object(3)\n",
            "memory usage: 1.6+ MB\n"
          ]
        }
      ],
      "source": [
        "df_hour.info()"
      ]
    },
    {
      "cell_type": "code",
      "execution_count": 21,
      "metadata": {},
      "outputs": [
        {
          "name": "stdout",
          "output_type": "stream",
          "text": [
            "<class 'pandas.core.frame.DataFrame'>\n",
            "RangeIndex: 17379 entries, 0 to 17378\n",
            "Data columns (total 12 columns):\n",
            " #   Column       Non-Null Count  Dtype         \n",
            "---  ------       --------------  -----         \n",
            " 0   instant      17379 non-null  int64         \n",
            " 1   date         17379 non-null  datetime64[ns]\n",
            " 2   season       17379 non-null  category      \n",
            " 3   hr           17379 non-null  int64         \n",
            " 4   weather      17379 non-null  category      \n",
            " 5   temperature  17379 non-null  float64       \n",
            " 6   atemp        17379 non-null  float64       \n",
            " 7   humidity     17379 non-null  float64       \n",
            " 8   windspeed    17379 non-null  float64       \n",
            " 9   casual       17379 non-null  int64         \n",
            " 10  registered   17379 non-null  int64         \n",
            " 11  total        17379 non-null  int64         \n",
            "dtypes: category(2), datetime64[ns](1), float64(4), int64(5)\n",
            "memory usage: 1.4 MB\n"
          ]
        }
      ],
      "source": [
        "#merubah tipe data kolom ke datetime\n",
        "df_hour[\"date\"] = pd.to_datetime(df_hour[\"date\"])\n",
        "\n",
        "#merubah tipe data kolom ke category\n",
        "df_hour['season'] = df_hour['season'].astype('category')\n",
        "df_hour['weather'] = df_hour['weather'].astype('category')\n",
        "\n",
        "df_hour.info()"
      ]
    },
    {
      "cell_type": "markdown",
      "metadata": {},
      "source": [
        "    Data type pada kolom `date` sudah diubah menjadi datetime64[ns].Dan beberapa kolom dengan tipe data `object` dan `int64` diubah menjadi `category`, karena merupakan data dengan nilai yang berulang sehingga dapat menghemat memori dan meningkatkan efisiensi eksekusi program."
      ]
    },
    {
      "cell_type": "markdown",
      "metadata": {
        "id": "gp-Y6wU38DC1"
      },
      "source": [
        "## Exploratory Data Analysis (EDA)"
      ]
    },
    {
      "cell_type": "markdown",
      "metadata": {
        "id": "MW7WF2kr8DC1"
      },
      "source": [
        "### Explore tabel df_day"
      ]
    },
    {
      "cell_type": "markdown",
      "metadata": {},
      "source": [
        "#### Eksplore jumlah total rental setiap musim"
      ]
    },
    {
      "cell_type": "code",
      "execution_count": 23,
      "metadata": {
        "id": "e9CQCZjk8DC2"
      },
      "outputs": [
        {
          "name": "stderr",
          "output_type": "stream",
          "text": [
            "C:\\Users\\user\\AppData\\Local\\Temp\\ipykernel_11948\\3786113424.py:1: FutureWarning: The default of observed=False is deprecated and will be changed to True in a future version of pandas. Pass observed=False to retain current behavior or observed=True to adopt the future default and silence this warning.\n",
            "  df_day.groupby(by='season').agg({\n"
          ]
        },
        {
          "data": {
            "text/html": [
              "<div>\n",
              "<style scoped>\n",
              "    .dataframe tbody tr th:only-of-type {\n",
              "        vertical-align: middle;\n",
              "    }\n",
              "\n",
              "    .dataframe tbody tr th {\n",
              "        vertical-align: top;\n",
              "    }\n",
              "\n",
              "    .dataframe thead tr th {\n",
              "        text-align: left;\n",
              "    }\n",
              "\n",
              "    .dataframe thead tr:last-of-type th {\n",
              "        text-align: right;\n",
              "    }\n",
              "</style>\n",
              "<table border=\"1\" class=\"dataframe\">\n",
              "  <thead>\n",
              "    <tr>\n",
              "      <th></th>\n",
              "      <th colspan=\"4\" halign=\"left\">total</th>\n",
              "      <th colspan=\"4\" halign=\"left\">temperature</th>\n",
              "      <th colspan=\"4\" halign=\"left\">atemp</th>\n",
              "      <th colspan=\"4\" halign=\"left\">humidity</th>\n",
              "    </tr>\n",
              "    <tr>\n",
              "      <th></th>\n",
              "      <th>sum</th>\n",
              "      <th>max</th>\n",
              "      <th>min</th>\n",
              "      <th>mean</th>\n",
              "      <th>mean</th>\n",
              "      <th>max</th>\n",
              "      <th>min</th>\n",
              "      <th>std</th>\n",
              "      <th>mean</th>\n",
              "      <th>max</th>\n",
              "      <th>min</th>\n",
              "      <th>std</th>\n",
              "      <th>mean</th>\n",
              "      <th>max</th>\n",
              "      <th>min</th>\n",
              "      <th>std</th>\n",
              "    </tr>\n",
              "    <tr>\n",
              "      <th>season</th>\n",
              "      <th></th>\n",
              "      <th></th>\n",
              "      <th></th>\n",
              "      <th></th>\n",
              "      <th></th>\n",
              "      <th></th>\n",
              "      <th></th>\n",
              "      <th></th>\n",
              "      <th></th>\n",
              "      <th></th>\n",
              "      <th></th>\n",
              "      <th></th>\n",
              "      <th></th>\n",
              "      <th></th>\n",
              "      <th></th>\n",
              "      <th></th>\n",
              "    </tr>\n",
              "  </thead>\n",
              "  <tbody>\n",
              "    <tr>\n",
              "      <th>fall</th>\n",
              "      <td>1061129</td>\n",
              "      <td>8714</td>\n",
              "      <td>1115</td>\n",
              "      <td>5644.303191</td>\n",
              "      <td>0.706309</td>\n",
              "      <td>0.861667</td>\n",
              "      <td>0.469167</td>\n",
              "      <td>0.070848</td>\n",
              "      <td>0.655898</td>\n",
              "      <td>0.840896</td>\n",
              "      <td>0.242400</td>\n",
              "      <td>0.072056</td>\n",
              "      <td>0.633482</td>\n",
              "      <td>0.939565</td>\n",
              "      <td>0.360000</td>\n",
              "      <td>0.119349</td>\n",
              "    </tr>\n",
              "    <tr>\n",
              "      <th>springer</th>\n",
              "      <td>471348</td>\n",
              "      <td>7836</td>\n",
              "      <td>431</td>\n",
              "      <td>2604.132597</td>\n",
              "      <td>0.297748</td>\n",
              "      <td>0.572500</td>\n",
              "      <td>0.059130</td>\n",
              "      <td>0.102735</td>\n",
              "      <td>0.296914</td>\n",
              "      <td>0.548617</td>\n",
              "      <td>0.079070</td>\n",
              "      <td>0.099026</td>\n",
              "      <td>0.582903</td>\n",
              "      <td>0.948261</td>\n",
              "      <td>0.000000</td>\n",
              "      <td>0.151880</td>\n",
              "    </tr>\n",
              "    <tr>\n",
              "      <th>summer</th>\n",
              "      <td>918589</td>\n",
              "      <td>8362</td>\n",
              "      <td>795</td>\n",
              "      <td>4992.331522</td>\n",
              "      <td>0.544405</td>\n",
              "      <td>0.808333</td>\n",
              "      <td>0.253043</td>\n",
              "      <td>0.122650</td>\n",
              "      <td>0.520307</td>\n",
              "      <td>0.757579</td>\n",
              "      <td>0.250339</td>\n",
              "      <td>0.108022</td>\n",
              "      <td>0.626948</td>\n",
              "      <td>0.922500</td>\n",
              "      <td>0.254167</td>\n",
              "      <td>0.152841</td>\n",
              "    </tr>\n",
              "    <tr>\n",
              "      <th>winter</th>\n",
              "      <td>841613</td>\n",
              "      <td>8555</td>\n",
              "      <td>22</td>\n",
              "      <td>4728.162921</td>\n",
              "      <td>0.422906</td>\n",
              "      <td>0.657500</td>\n",
              "      <td>0.220833</td>\n",
              "      <td>0.107834</td>\n",
              "      <td>0.415539</td>\n",
              "      <td>0.607975</td>\n",
              "      <td>0.227913</td>\n",
              "      <td>0.095536</td>\n",
              "      <td>0.668719</td>\n",
              "      <td>0.972500</td>\n",
              "      <td>0.333478</td>\n",
              "      <td>0.131248</td>\n",
              "    </tr>\n",
              "  </tbody>\n",
              "</table>\n",
              "</div>"
            ],
            "text/plain": [
              "            total                          temperature                      \\\n",
              "              sum   max   min         mean        mean       max       min   \n",
              "season                                                                       \n",
              "fall      1061129  8714  1115  5644.303191    0.706309  0.861667  0.469167   \n",
              "springer   471348  7836   431  2604.132597    0.297748  0.572500  0.059130   \n",
              "summer     918589  8362   795  4992.331522    0.544405  0.808333  0.253043   \n",
              "winter     841613  8555    22  4728.162921    0.422906  0.657500  0.220833   \n",
              "\n",
              "                       atemp                                humidity  \\\n",
              "               std      mean       max       min       std      mean   \n",
              "season                                                                 \n",
              "fall      0.070848  0.655898  0.840896  0.242400  0.072056  0.633482   \n",
              "springer  0.102735  0.296914  0.548617  0.079070  0.099026  0.582903   \n",
              "summer    0.122650  0.520307  0.757579  0.250339  0.108022  0.626948   \n",
              "winter    0.107834  0.415539  0.607975  0.227913  0.095536  0.668719   \n",
              "\n",
              "                                        \n",
              "               max       min       std  \n",
              "season                                  \n",
              "fall      0.939565  0.360000  0.119349  \n",
              "springer  0.948261  0.000000  0.151880  \n",
              "summer    0.922500  0.254167  0.152841  \n",
              "winter    0.972500  0.333478  0.131248  "
            ]
          },
          "execution_count": 23,
          "metadata": {},
          "output_type": "execute_result"
        }
      ],
      "source": [
        "df_day.groupby(by='season').agg({\n",
        "    'total': ['sum', 'max', 'min', 'mean'],\n",
        "    'temperature' : ['mean', 'max', 'min', 'std'],\n",
        "    'atemp': ['mean', 'max', 'min', 'std'],\n",
        "    'humidity' : ['mean', 'max', 'min', 'std'],\n",
        "})"
      ]
    },
    {
      "cell_type": "code",
      "execution_count": 24,
      "metadata": {},
      "outputs": [
        {
          "name": "stderr",
          "output_type": "stream",
          "text": [
            "C:\\Users\\user\\AppData\\Local\\Temp\\ipykernel_11948\\2223502150.py:1: FutureWarning: The default of observed=False is deprecated and will be changed to True in a future version of pandas. Pass observed=False to retain current behavior or observed=True to adopt the future default and silence this warning.\n",
            "  df_day.groupby('season')[['registered', 'casual']].sum().reset_index()\n"
          ]
        },
        {
          "data": {
            "text/html": [
              "<div>\n",
              "<style scoped>\n",
              "    .dataframe tbody tr th:only-of-type {\n",
              "        vertical-align: middle;\n",
              "    }\n",
              "\n",
              "    .dataframe tbody tr th {\n",
              "        vertical-align: top;\n",
              "    }\n",
              "\n",
              "    .dataframe thead th {\n",
              "        text-align: right;\n",
              "    }\n",
              "</style>\n",
              "<table border=\"1\" class=\"dataframe\">\n",
              "  <thead>\n",
              "    <tr style=\"text-align: right;\">\n",
              "      <th></th>\n",
              "      <th>season</th>\n",
              "      <th>registered</th>\n",
              "      <th>casual</th>\n",
              "    </tr>\n",
              "  </thead>\n",
              "  <tbody>\n",
              "    <tr>\n",
              "      <th>0</th>\n",
              "      <td>fall</td>\n",
              "      <td>835038</td>\n",
              "      <td>226091</td>\n",
              "    </tr>\n",
              "    <tr>\n",
              "      <th>1</th>\n",
              "      <td>springer</td>\n",
              "      <td>410726</td>\n",
              "      <td>60622</td>\n",
              "    </tr>\n",
              "    <tr>\n",
              "      <th>2</th>\n",
              "      <td>summer</td>\n",
              "      <td>715067</td>\n",
              "      <td>203522</td>\n",
              "    </tr>\n",
              "    <tr>\n",
              "      <th>3</th>\n",
              "      <td>winter</td>\n",
              "      <td>711831</td>\n",
              "      <td>129782</td>\n",
              "    </tr>\n",
              "  </tbody>\n",
              "</table>\n",
              "</div>"
            ],
            "text/plain": [
              "     season  registered  casual\n",
              "0      fall      835038  226091\n",
              "1  springer      410726   60622\n",
              "2    summer      715067  203522\n",
              "3    winter      711831  129782"
            ]
          },
          "execution_count": 24,
          "metadata": {},
          "output_type": "execute_result"
        }
      ],
      "source": [
        "df_day.groupby('season')[['registered', 'casual']].sum().reset_index()"
      ]
    },
    {
      "cell_type": "markdown",
      "metadata": {
        "id": "th_Lzl2Fkj9O"
      },
      "source": [
        "    Pada tabel tersebut didapatkan beberapa insight mengenai musim:\n",
        "    - Penyewaan terbanyak adalah Fall, penyewaan tersedikit adalah springer, dengan rata rata penyewaan terbanyak terjadi pada musim fall\n",
        "    - Suhu rata-rata dari tinggi ke rendah adalah `fall => summer => winter => springer`\n",
        "    - Rata-rata suhu yang dirasakan dari tinggi ke rendah adalah `fall => summer => winter => springer`\n",
        "    - Kelembaban rata-rata dari tinggi ke rendah adalah `winter => fall => summer => springer`"
      ]
    },
    {
      "cell_type": "markdown",
      "metadata": {},
      "source": [
        "##### Eksplore pengaruh cuaca terhadap jumlah total rental"
      ]
    },
    {
      "cell_type": "code",
      "execution_count": 25,
      "metadata": {},
      "outputs": [
        {
          "name": "stderr",
          "output_type": "stream",
          "text": [
            "C:\\Users\\user\\AppData\\Local\\Temp\\ipykernel_11948\\2445008950.py:1: FutureWarning: The default of observed=False is deprecated and will be changed to True in a future version of pandas. Pass observed=False to retain current behavior or observed=True to adopt the future default and silence this warning.\n",
            "  df_day.groupby(by='weather').agg({\n"
          ]
        },
        {
          "data": {
            "text/html": [
              "<div>\n",
              "<style scoped>\n",
              "    .dataframe tbody tr th:only-of-type {\n",
              "        vertical-align: middle;\n",
              "    }\n",
              "\n",
              "    .dataframe tbody tr th {\n",
              "        vertical-align: top;\n",
              "    }\n",
              "\n",
              "    .dataframe thead tr th {\n",
              "        text-align: left;\n",
              "    }\n",
              "\n",
              "    .dataframe thead tr:last-of-type th {\n",
              "        text-align: right;\n",
              "    }\n",
              "</style>\n",
              "<table border=\"1\" class=\"dataframe\">\n",
              "  <thead>\n",
              "    <tr>\n",
              "      <th></th>\n",
              "      <th colspan=\"4\" halign=\"left\">total</th>\n",
              "    </tr>\n",
              "    <tr>\n",
              "      <th></th>\n",
              "      <th>sum</th>\n",
              "      <th>max</th>\n",
              "      <th>min</th>\n",
              "      <th>mean</th>\n",
              "    </tr>\n",
              "    <tr>\n",
              "      <th>weather</th>\n",
              "      <th></th>\n",
              "      <th></th>\n",
              "      <th></th>\n",
              "      <th></th>\n",
              "    </tr>\n",
              "  </thead>\n",
              "  <tbody>\n",
              "    <tr>\n",
              "      <th>Light Rain/Snow</th>\n",
              "      <td>37869</td>\n",
              "      <td>4639</td>\n",
              "      <td>22</td>\n",
              "      <td>1803.285714</td>\n",
              "    </tr>\n",
              "    <tr>\n",
              "      <th>Mist</th>\n",
              "      <td>996858</td>\n",
              "      <td>8362</td>\n",
              "      <td>605</td>\n",
              "      <td>4035.862348</td>\n",
              "    </tr>\n",
              "    <tr>\n",
              "      <th>clear</th>\n",
              "      <td>2257952</td>\n",
              "      <td>8714</td>\n",
              "      <td>431</td>\n",
              "      <td>4876.786177</td>\n",
              "    </tr>\n",
              "  </tbody>\n",
              "</table>\n",
              "</div>"
            ],
            "text/plain": [
              "                   total                        \n",
              "                     sum   max  min         mean\n",
              "weather                                         \n",
              "Light Rain/Snow    37869  4639   22  1803.285714\n",
              "Mist              996858  8362  605  4035.862348\n",
              "clear            2257952  8714  431  4876.786177"
            ]
          },
          "execution_count": 25,
          "metadata": {},
          "output_type": "execute_result"
        }
      ],
      "source": [
        "df_day.groupby(by='weather').agg({\n",
        "    'total': ['sum', 'max', 'min', 'mean']\n",
        "})"
      ]
    },
    {
      "cell_type": "code",
      "execution_count": 26,
      "metadata": {},
      "outputs": [
        {
          "name": "stderr",
          "output_type": "stream",
          "text": [
            "C:\\Users\\user\\AppData\\Local\\Temp\\ipykernel_11948\\4104872638.py:1: FutureWarning: The default of observed=False is deprecated and will be changed to True in a future version of pandas. Pass observed=False to retain current behavior or observed=True to adopt the future default and silence this warning.\n",
            "  df_day.groupby('weather')[['registered', 'casual']].sum().reset_index()\n"
          ]
        },
        {
          "data": {
            "text/html": [
              "<div>\n",
              "<style scoped>\n",
              "    .dataframe tbody tr th:only-of-type {\n",
              "        vertical-align: middle;\n",
              "    }\n",
              "\n",
              "    .dataframe tbody tr th {\n",
              "        vertical-align: top;\n",
              "    }\n",
              "\n",
              "    .dataframe thead th {\n",
              "        text-align: right;\n",
              "    }\n",
              "</style>\n",
              "<table border=\"1\" class=\"dataframe\">\n",
              "  <thead>\n",
              "    <tr style=\"text-align: right;\">\n",
              "      <th></th>\n",
              "      <th>weather</th>\n",
              "      <th>registered</th>\n",
              "      <th>casual</th>\n",
              "    </tr>\n",
              "  </thead>\n",
              "  <tbody>\n",
              "    <tr>\n",
              "      <th>0</th>\n",
              "      <td>Light Rain/Snow</td>\n",
              "      <td>33974</td>\n",
              "      <td>3895</td>\n",
              "    </tr>\n",
              "    <tr>\n",
              "      <th>1</th>\n",
              "      <td>Mist</td>\n",
              "      <td>827082</td>\n",
              "      <td>169776</td>\n",
              "    </tr>\n",
              "    <tr>\n",
              "      <th>2</th>\n",
              "      <td>clear</td>\n",
              "      <td>1811606</td>\n",
              "      <td>446346</td>\n",
              "    </tr>\n",
              "  </tbody>\n",
              "</table>\n",
              "</div>"
            ],
            "text/plain": [
              "           weather  registered  casual\n",
              "0  Light Rain/Snow       33974    3895\n",
              "1             Mist      827082  169776\n",
              "2            clear     1811606  446346"
            ]
          },
          "execution_count": 26,
          "metadata": {},
          "output_type": "execute_result"
        }
      ],
      "source": [
        "df_day.groupby('weather')[['registered', 'casual']].sum().reset_index()"
      ]
    },
    {
      "cell_type": "markdown",
      "metadata": {},
      "source": [
        "    berdasarkan pada data tersebut terlihat bahwa penyewaan terbanyak terjadi ketika cuaca sedang cerah dengan angka peminjaman yang jauh lebih tinggi daripada keadaan cuaca yang lain. "
      ]
    },
    {
      "cell_type": "markdown",
      "metadata": {},
      "source": [
        "### Explore tabel `df_hour`"
      ]
    },
    {
      "cell_type": "markdown",
      "metadata": {},
      "source": [
        "##### Eksplore jumlah total rental pada setiap musim"
      ]
    },
    {
      "cell_type": "code",
      "execution_count": 29,
      "metadata": {},
      "outputs": [
        {
          "name": "stderr",
          "output_type": "stream",
          "text": [
            "C:\\Users\\user\\AppData\\Local\\Temp\\ipykernel_11948\\421555508.py:1: FutureWarning: The default of observed=False is deprecated and will be changed to True in a future version of pandas. Pass observed=False to retain current behavior or observed=True to adopt the future default and silence this warning.\n",
            "  df_hour.groupby(by='season').agg({\n"
          ]
        },
        {
          "data": {
            "text/html": [
              "<div>\n",
              "<style scoped>\n",
              "    .dataframe tbody tr th:only-of-type {\n",
              "        vertical-align: middle;\n",
              "    }\n",
              "\n",
              "    .dataframe tbody tr th {\n",
              "        vertical-align: top;\n",
              "    }\n",
              "\n",
              "    .dataframe thead tr th {\n",
              "        text-align: left;\n",
              "    }\n",
              "\n",
              "    .dataframe thead tr:last-of-type th {\n",
              "        text-align: right;\n",
              "    }\n",
              "</style>\n",
              "<table border=\"1\" class=\"dataframe\">\n",
              "  <thead>\n",
              "    <tr>\n",
              "      <th></th>\n",
              "      <th colspan=\"4\" halign=\"left\">total</th>\n",
              "      <th colspan=\"4\" halign=\"left\">temperature</th>\n",
              "      <th colspan=\"4\" halign=\"left\">atemp</th>\n",
              "      <th colspan=\"4\" halign=\"left\">humidity</th>\n",
              "    </tr>\n",
              "    <tr>\n",
              "      <th></th>\n",
              "      <th>sum</th>\n",
              "      <th>max</th>\n",
              "      <th>min</th>\n",
              "      <th>mean</th>\n",
              "      <th>mean</th>\n",
              "      <th>max</th>\n",
              "      <th>min</th>\n",
              "      <th>std</th>\n",
              "      <th>mean</th>\n",
              "      <th>max</th>\n",
              "      <th>min</th>\n",
              "      <th>std</th>\n",
              "      <th>mean</th>\n",
              "      <th>max</th>\n",
              "      <th>min</th>\n",
              "      <th>std</th>\n",
              "    </tr>\n",
              "    <tr>\n",
              "      <th>season</th>\n",
              "      <th></th>\n",
              "      <th></th>\n",
              "      <th></th>\n",
              "      <th></th>\n",
              "      <th></th>\n",
              "      <th></th>\n",
              "      <th></th>\n",
              "      <th></th>\n",
              "      <th></th>\n",
              "      <th></th>\n",
              "      <th></th>\n",
              "      <th></th>\n",
              "      <th></th>\n",
              "      <th></th>\n",
              "      <th></th>\n",
              "      <th></th>\n",
              "    </tr>\n",
              "  </thead>\n",
              "  <tbody>\n",
              "    <tr>\n",
              "      <th>fall</th>\n",
              "      <td>1061129</td>\n",
              "      <td>977</td>\n",
              "      <td>1</td>\n",
              "      <td>236.016237</td>\n",
              "      <td>0.706410</td>\n",
              "      <td>1.00</td>\n",
              "      <td>0.38</td>\n",
              "      <td>0.093903</td>\n",
              "      <td>0.656004</td>\n",
              "      <td>1.0000</td>\n",
              "      <td>0.2424</td>\n",
              "      <td>0.089505</td>\n",
              "      <td>0.633167</td>\n",
              "      <td>1.0</td>\n",
              "      <td>0.16</td>\n",
              "      <td>0.177866</td>\n",
              "    </tr>\n",
              "    <tr>\n",
              "      <th>springer</th>\n",
              "      <td>471348</td>\n",
              "      <td>801</td>\n",
              "      <td>1</td>\n",
              "      <td>111.114569</td>\n",
              "      <td>0.299147</td>\n",
              "      <td>0.72</td>\n",
              "      <td>0.02</td>\n",
              "      <td>0.118726</td>\n",
              "      <td>0.298116</td>\n",
              "      <td>0.6515</td>\n",
              "      <td>0.0000</td>\n",
              "      <td>0.114405</td>\n",
              "      <td>0.581348</td>\n",
              "      <td>1.0</td>\n",
              "      <td>0.00</td>\n",
              "      <td>0.199403</td>\n",
              "    </tr>\n",
              "    <tr>\n",
              "      <th>summer</th>\n",
              "      <td>918589</td>\n",
              "      <td>957</td>\n",
              "      <td>1</td>\n",
              "      <td>208.344069</td>\n",
              "      <td>0.544663</td>\n",
              "      <td>0.94</td>\n",
              "      <td>0.16</td>\n",
              "      <td>0.139233</td>\n",
              "      <td>0.520547</td>\n",
              "      <td>0.8788</td>\n",
              "      <td>0.1667</td>\n",
              "      <td>0.123376</td>\n",
              "      <td>0.627022</td>\n",
              "      <td>1.0</td>\n",
              "      <td>0.16</td>\n",
              "      <td>0.205364</td>\n",
              "    </tr>\n",
              "    <tr>\n",
              "      <th>winter</th>\n",
              "      <td>841613</td>\n",
              "      <td>967</td>\n",
              "      <td>1</td>\n",
              "      <td>198.868856</td>\n",
              "      <td>0.423138</td>\n",
              "      <td>0.76</td>\n",
              "      <td>0.14</td>\n",
              "      <td>0.122167</td>\n",
              "      <td>0.415738</td>\n",
              "      <td>0.6818</td>\n",
              "      <td>0.1515</td>\n",
              "      <td>0.109336</td>\n",
              "      <td>0.667124</td>\n",
              "      <td>1.0</td>\n",
              "      <td>0.16</td>\n",
              "      <td>0.178149</td>\n",
              "    </tr>\n",
              "  </tbody>\n",
              "</table>\n",
              "</div>"
            ],
            "text/plain": [
              "            total                      temperature                        \\\n",
              "              sum  max min        mean        mean   max   min       std   \n",
              "season                                                                     \n",
              "fall      1061129  977   1  236.016237    0.706410  1.00  0.38  0.093903   \n",
              "springer   471348  801   1  111.114569    0.299147  0.72  0.02  0.118726   \n",
              "summer     918589  957   1  208.344069    0.544663  0.94  0.16  0.139233   \n",
              "winter     841613  967   1  198.868856    0.423138  0.76  0.14  0.122167   \n",
              "\n",
              "             atemp                            humidity                       \n",
              "              mean     max     min       std      mean  max   min       std  \n",
              "season                                                                       \n",
              "fall      0.656004  1.0000  0.2424  0.089505  0.633167  1.0  0.16  0.177866  \n",
              "springer  0.298116  0.6515  0.0000  0.114405  0.581348  1.0  0.00  0.199403  \n",
              "summer    0.520547  0.8788  0.1667  0.123376  0.627022  1.0  0.16  0.205364  \n",
              "winter    0.415738  0.6818  0.1515  0.109336  0.667124  1.0  0.16  0.178149  "
            ]
          },
          "execution_count": 29,
          "metadata": {},
          "output_type": "execute_result"
        }
      ],
      "source": [
        "df_hour.groupby(by='season').agg({\n",
        "    'total': ['sum', 'max', 'min', 'mean'],\n",
        "    'temperature' : ['mean', 'max', 'min', 'std'],\n",
        "    'atemp': ['mean', 'max', 'min', 'std'],\n",
        "    'humidity' : ['mean', 'max', 'min', 'std'],\n",
        "})"
      ]
    },
    {
      "cell_type": "code",
      "execution_count": 30,
      "metadata": {},
      "outputs": [
        {
          "name": "stderr",
          "output_type": "stream",
          "text": [
            "C:\\Users\\user\\AppData\\Local\\Temp\\ipykernel_11948\\1404760566.py:1: FutureWarning: The default of observed=False is deprecated and will be changed to True in a future version of pandas. Pass observed=False to retain current behavior or observed=True to adopt the future default and silence this warning.\n",
            "  df_hour.groupby('season')[['registered', 'casual']].sum().reset_index()\n"
          ]
        },
        {
          "data": {
            "text/html": [
              "<div>\n",
              "<style scoped>\n",
              "    .dataframe tbody tr th:only-of-type {\n",
              "        vertical-align: middle;\n",
              "    }\n",
              "\n",
              "    .dataframe tbody tr th {\n",
              "        vertical-align: top;\n",
              "    }\n",
              "\n",
              "    .dataframe thead th {\n",
              "        text-align: right;\n",
              "    }\n",
              "</style>\n",
              "<table border=\"1\" class=\"dataframe\">\n",
              "  <thead>\n",
              "    <tr style=\"text-align: right;\">\n",
              "      <th></th>\n",
              "      <th>season</th>\n",
              "      <th>registered</th>\n",
              "      <th>casual</th>\n",
              "    </tr>\n",
              "  </thead>\n",
              "  <tbody>\n",
              "    <tr>\n",
              "      <th>0</th>\n",
              "      <td>fall</td>\n",
              "      <td>835038</td>\n",
              "      <td>226091</td>\n",
              "    </tr>\n",
              "    <tr>\n",
              "      <th>1</th>\n",
              "      <td>springer</td>\n",
              "      <td>410726</td>\n",
              "      <td>60622</td>\n",
              "    </tr>\n",
              "    <tr>\n",
              "      <th>2</th>\n",
              "      <td>summer</td>\n",
              "      <td>715067</td>\n",
              "      <td>203522</td>\n",
              "    </tr>\n",
              "    <tr>\n",
              "      <th>3</th>\n",
              "      <td>winter</td>\n",
              "      <td>711831</td>\n",
              "      <td>129782</td>\n",
              "    </tr>\n",
              "  </tbody>\n",
              "</table>\n",
              "</div>"
            ],
            "text/plain": [
              "     season  registered  casual\n",
              "0      fall      835038  226091\n",
              "1  springer      410726   60622\n",
              "2    summer      715067  203522\n",
              "3    winter      711831  129782"
            ]
          },
          "execution_count": 30,
          "metadata": {},
          "output_type": "execute_result"
        }
      ],
      "source": [
        "df_hour.groupby('season')[['registered', 'casual']].sum().reset_index()"
      ]
    },
    {
      "cell_type": "markdown",
      "metadata": {},
      "source": [
        "    pada tabel tersebut didapatkan beberapa insight mengenai musim:\n",
        "    - penyewaan terbanyak: Fall, penyewaan tersedikit: springer, dengan rata rata penyewaan terbanyak terjadi pada musim fall\n",
        "    - suhu rata-rata dari tinggi ke rendah: `fall => summer => winter => springer`\n",
        "    - rata-rata suhu yang dirasakan dari tinggi ke rendah: `fall => summer => winter => springer`\n",
        "    - kelembaban rata-rata dari tinggi ke rendah: `winter => fall => summer => springer`"
      ]
    },
    {
      "cell_type": "markdown",
      "metadata": {},
      "source": [
        "##### Eksplore pengaruh cuaca terhadap jumlah total rental"
      ]
    },
    {
      "cell_type": "code",
      "execution_count": 31,
      "metadata": {},
      "outputs": [
        {
          "name": "stderr",
          "output_type": "stream",
          "text": [
            "C:\\Users\\user\\AppData\\Local\\Temp\\ipykernel_11948\\3183186639.py:1: FutureWarning: The default of observed=False is deprecated and will be changed to True in a future version of pandas. Pass observed=False to retain current behavior or observed=True to adopt the future default and silence this warning.\n",
            "  df_hour.groupby(by='weather').agg({\n"
          ]
        },
        {
          "data": {
            "text/html": [
              "<div>\n",
              "<style scoped>\n",
              "    .dataframe tbody tr th:only-of-type {\n",
              "        vertical-align: middle;\n",
              "    }\n",
              "\n",
              "    .dataframe tbody tr th {\n",
              "        vertical-align: top;\n",
              "    }\n",
              "\n",
              "    .dataframe thead tr th {\n",
              "        text-align: left;\n",
              "    }\n",
              "\n",
              "    .dataframe thead tr:last-of-type th {\n",
              "        text-align: right;\n",
              "    }\n",
              "</style>\n",
              "<table border=\"1\" class=\"dataframe\">\n",
              "  <thead>\n",
              "    <tr>\n",
              "      <th></th>\n",
              "      <th colspan=\"4\" halign=\"left\">total</th>\n",
              "    </tr>\n",
              "    <tr>\n",
              "      <th></th>\n",
              "      <th>sum</th>\n",
              "      <th>max</th>\n",
              "      <th>min</th>\n",
              "      <th>mean</th>\n",
              "    </tr>\n",
              "    <tr>\n",
              "      <th>weather</th>\n",
              "      <th></th>\n",
              "      <th></th>\n",
              "      <th></th>\n",
              "      <th></th>\n",
              "    </tr>\n",
              "  </thead>\n",
              "  <tbody>\n",
              "    <tr>\n",
              "      <th>Heavy Rain/Snow</th>\n",
              "      <td>223</td>\n",
              "      <td>164</td>\n",
              "      <td>23</td>\n",
              "      <td>74.333333</td>\n",
              "    </tr>\n",
              "    <tr>\n",
              "      <th>Light Rain/Snow</th>\n",
              "      <td>158331</td>\n",
              "      <td>891</td>\n",
              "      <td>1</td>\n",
              "      <td>111.579281</td>\n",
              "    </tr>\n",
              "    <tr>\n",
              "      <th>Mist</th>\n",
              "      <td>795952</td>\n",
              "      <td>957</td>\n",
              "      <td>1</td>\n",
              "      <td>175.165493</td>\n",
              "    </tr>\n",
              "    <tr>\n",
              "      <th>clear</th>\n",
              "      <td>2338173</td>\n",
              "      <td>977</td>\n",
              "      <td>1</td>\n",
              "      <td>204.869272</td>\n",
              "    </tr>\n",
              "  </tbody>\n",
              "</table>\n",
              "</div>"
            ],
            "text/plain": [
              "                   total                     \n",
              "                     sum  max min        mean\n",
              "weather                                      \n",
              "Heavy Rain/Snow      223  164  23   74.333333\n",
              "Light Rain/Snow   158331  891   1  111.579281\n",
              "Mist              795952  957   1  175.165493\n",
              "clear            2338173  977   1  204.869272"
            ]
          },
          "execution_count": 31,
          "metadata": {},
          "output_type": "execute_result"
        }
      ],
      "source": [
        "df_hour.groupby(by='weather').agg({\n",
        "    'total': ['sum', 'max', 'min', 'mean']\n",
        "})"
      ]
    },
    {
      "cell_type": "code",
      "execution_count": 32,
      "metadata": {},
      "outputs": [
        {
          "name": "stderr",
          "output_type": "stream",
          "text": [
            "C:\\Users\\user\\AppData\\Local\\Temp\\ipykernel_11948\\310127490.py:1: FutureWarning: The default of observed=False is deprecated and will be changed to True in a future version of pandas. Pass observed=False to retain current behavior or observed=True to adopt the future default and silence this warning.\n",
            "  df_hour.groupby('weather')[['registered', 'casual']].sum().reset_index()\n"
          ]
        },
        {
          "data": {
            "text/html": [
              "<div>\n",
              "<style scoped>\n",
              "    .dataframe tbody tr th:only-of-type {\n",
              "        vertical-align: middle;\n",
              "    }\n",
              "\n",
              "    .dataframe tbody tr th {\n",
              "        vertical-align: top;\n",
              "    }\n",
              "\n",
              "    .dataframe thead th {\n",
              "        text-align: right;\n",
              "    }\n",
              "</style>\n",
              "<table border=\"1\" class=\"dataframe\">\n",
              "  <thead>\n",
              "    <tr style=\"text-align: right;\">\n",
              "      <th></th>\n",
              "      <th>weather</th>\n",
              "      <th>registered</th>\n",
              "      <th>casual</th>\n",
              "    </tr>\n",
              "  </thead>\n",
              "  <tbody>\n",
              "    <tr>\n",
              "      <th>0</th>\n",
              "      <td>Heavy Rain/Snow</td>\n",
              "      <td>215</td>\n",
              "      <td>8</td>\n",
              "    </tr>\n",
              "    <tr>\n",
              "      <th>1</th>\n",
              "      <td>Light Rain/Snow</td>\n",
              "      <td>135548</td>\n",
              "      <td>22783</td>\n",
              "    </tr>\n",
              "    <tr>\n",
              "      <th>2</th>\n",
              "      <td>Mist</td>\n",
              "      <td>661471</td>\n",
              "      <td>134481</td>\n",
              "    </tr>\n",
              "    <tr>\n",
              "      <th>3</th>\n",
              "      <td>clear</td>\n",
              "      <td>1875428</td>\n",
              "      <td>462745</td>\n",
              "    </tr>\n",
              "  </tbody>\n",
              "</table>\n",
              "</div>"
            ],
            "text/plain": [
              "           weather  registered  casual\n",
              "0  Heavy Rain/Snow         215       8\n",
              "1  Light Rain/Snow      135548   22783\n",
              "2             Mist      661471  134481\n",
              "3            clear     1875428  462745"
            ]
          },
          "execution_count": 32,
          "metadata": {},
          "output_type": "execute_result"
        }
      ],
      "source": [
        "df_hour.groupby('weather')[['registered', 'casual']].sum().reset_index()"
      ]
    },
    {
      "cell_type": "markdown",
      "metadata": {},
      "source": [
        "    berdasarkan pada data tersebut terlihat bahwa penyewaan terbanyak terjadi ketika cuaca sedang cerah/clear dengan angka peminjaman yang jauh lebih tinggi daripada keadaan cuaca yang lain. "
      ]
    },
    {
      "cell_type": "markdown",
      "metadata": {
        "id": "zsyZjqak8DC2"
      },
      "source": [
        "## Visualization & Explanatory Analysis"
      ]
    },
    {
      "cell_type": "markdown",
      "metadata": {
        "id": "HZxOiQ6n8DC2"
      },
      "source": [
        "### Pertanyaan 1: Musim manakah yang menjadi musim paling diminati untuk menyewa sepeda?"
      ]
    },
    {
      "cell_type": "code",
      "execution_count": 46,
      "metadata": {
        "id": "1swJUdAD8DC2"
      },
      "outputs": [
        {
          "name": "stderr",
          "output_type": "stream",
          "text": [
            "C:\\Users\\user\\AppData\\Local\\Temp\\ipykernel_11948\\3678173390.py:8: FutureWarning: The default of observed=False is deprecated and will be changed to True in a future version of pandas. Pass observed=False to retain current behavior or observed=True to adopt the future default and silence this warning.\n",
            "  season_rentals = df_day.groupby('season')[['registered', 'casual']].sum().reset_index()\n"
          ]
        },
        {
          "data": {
            "image/png": "[encoded data removed]",
            "text/plain": [
              "<Figure size 1000x600 with 1 Axes>"
            ]
          },
          "metadata": {},
          "output_type": "display_data"
        }
      ],
      "source": [
        "import pandas as pd\n",
        "import matplotlib.pyplot as plt\n",
        "import seaborn as sns\n",
        "\n",
        "sns.set(style=\"whitegrid\")\n",
        "\n",
        "# Dataframe untuk jumlah total penyewaan sepeda berdasarkan musim\n",
        "season_rentals = df_day.groupby('season')[['registered', 'casual']].sum().reset_index()\n",
        "\n",
        "# Membuat visualisasi jumlah penyewaan sepeda berdasarkan musim\n",
        "plt.figure(figsize=(10, 6))\n",
        "season_rentals_melted = season_rentals.melt(id_vars=['season'], value_vars=['registered', 'casual'],\n",
        "                                            var_name='rental_type', value_name='total_rentals')\n",
        "\n",
        "sns.barplot(x='season', y='total_rentals', hue='rental_type', data=season_rentals_melted, palette='Set2')\n",
        "plt.title('Jumlah Penyewaan Sepeda Berdasarkan Musim', fontsize=16)\n",
        "plt.xlabel('Musim')\n",
        "plt.ylabel('Jumlah Penyewaan Sepeda')\n",
        "plt.legend(title='Tipe Penyewaan')\n",
        "plt.show()\n",
        "\n"
      ]
    },
    {
      "cell_type": "markdown",
      "metadata": {},
      "source": [
        "#### Jika hasil visualisasis berupa persentase : "
      ]
    },
    {
      "cell_type": "code",
      "execution_count": 38,
      "metadata": {},
      "outputs": [
        {
          "name": "stderr",
          "output_type": "stream",
          "text": [
            "C:\\Users\\user\\AppData\\Local\\Temp\\ipykernel_11948\\437520882.py:9: FutureWarning: The default of observed=False is deprecated and will be changed to True in a future version of pandas. Pass observed=False to retain current behavior or observed=True to adopt the future default and silence this warning.\n",
            "  season_rentals = df_day.groupby('season')[['registered', 'casual']].sum().reset_index()\n",
            "C:\\Users\\user\\AppData\\Local\\Temp\\ipykernel_11948\\437520882.py:25: FutureWarning: \n",
            "\n",
            "Passing `palette` without assigning `hue` is deprecated and will be removed in v0.14.0. Assign the `x` variable to `hue` and set `legend=False` for the same effect.\n",
            "\n",
            "  sns.barplot(x='season', y='percentage', data=season_rentals, palette='Set2')\n"
          ]
        },
        {
          "data": {
            "image/png": "[encoded data removed]",
            "text/plain": [
              "<Figure size 1000x600 with 1 Axes>"
            ]
          },
          "metadata": {},
          "output_type": "display_data"
        }
      ],
      "source": [
        "import pandas as pd\n",
        "import matplotlib.pyplot as plt\n",
        "import seaborn as sns\n",
        "\n",
        "# Mengatur style plot\n",
        "sns.set(style=\"whitegrid\")\n",
        "\n",
        "# Mengelompokkan data berdasarkan musim dan menghitung jumlah penyewaaan sepeda\n",
        "season_rentals = df_day.groupby('season')[['registered', 'casual']].sum().reset_index()\n",
        "\n",
        "# Menambahkan kolom totla penyewaan sepeda dari penyewa registered dan casual\n",
        "season_rentals['total_rentals'] = season_rentals['registered'] + season_rentals['casual']\n",
        "\n",
        "# Menghitung total penyewaan sepeda di seluruh dataset\n",
        "total_rentals_all_seasons = season_rentals['total_rentals'].sum()\n",
        "\n",
        "# Menambahkan kolom persentase penyewaan per musim\n",
        "season_rentals['percentage'] = (season_rentals['total_rentals'] / total_rentals_all_seasons) * 100\n",
        "\n",
        "# Menampilkan dataframe dengan persentase penyewaan\n",
        "season_rentals[['season', 'percentage']]\n",
        "\n",
        "# Membuat visualisasi persentase penyewaan sepeda berdasarkan musim\n",
        "plt.figure(figsize=(10, 6))\n",
        "sns.barplot(x='season', y='percentage', data=season_rentals, palette='Set2')\n",
        "\n",
        "# Menambahkan informasi ke plot\n",
        "plt.title('Persentase Penyewaan Sepeda Berdasarkan Musim', fontsize=16)\n",
        "plt.xlabel('Musim')\n",
        "plt.ylabel('Persentase Penyewaan (%)')\n",
        "plt.show()\n"
      ]
    },
    {
      "cell_type": "markdown",
      "metadata": {},
      "source": [
        "    Barplot digunakan untuk memvisualisasikan perbandingan jumlah penyewaan sepeda berdasarkan musim. Data ini menunjukkan jumlah penyewaan untuk setiap jenis penyewa (registered dan casual). Berdasarkan hasil eksplorasi, bisa dilihat bahwa musim fall memiliki jumlah penyewaan terbanyak, sedangkan springer adalah musim dengan jumlah penyewaan terendah."
      ]
    },
    {
      "cell_type": "markdown",
      "metadata": {
        "id": "DgHI7CiU8DC2"
      },
      "source": [
        "### Pertanyaan 2: Berapa total penyewa yang menyewa sepeda berdasarkan kondisi cuaca?"
      ]
    },
    {
      "cell_type": "code",
      "execution_count": 43,
      "metadata": {
        "id": "Go0lCsvO8DC2"
      },
      "outputs": [
        {
          "name": "stderr",
          "output_type": "stream",
          "text": [
            "C:\\Users\\user\\AppData\\Local\\Temp\\ipykernel_11948\\1175078123.py:9: FutureWarning: The default of observed=False is deprecated and will be changed to True in a future version of pandas. Pass observed=False to retain current behavior or observed=True to adopt the future default and silence this warning.\n",
            "  weather_rentals = df_day.groupby('weather')[['registered', 'casual']].sum().reset_index()\n"
          ]
        },
        {
          "data": {
            "image/png": "[encoded data removed]",
            "text/plain": [
              "<Figure size 1000x600 with 2 Axes>"
            ]
          },
          "metadata": {},
          "output_type": "display_data"
        }
      ],
      "source": [
        "import pandas as pd\n",
        "import matplotlib.pyplot as plt\n",
        "import seaborn as sns\n",
        "\n",
        "# Mengatur plot styling\n",
        "sns.set(style=\"whitegrid\")\n",
        "\n",
        "# Mengelompokkan data berdasarkan cuaca dan menghitung jumlah penyewaan\n",
        "weather_rentals = df_day.groupby('weather')[['registered', 'casual']].sum().reset_index()\n",
        "\n",
        "# Membuat pivot table untuk heatmap\n",
        "heatmap_data = weather_rentals[['weather', 'registered', 'casual']].set_index('weather')\n",
        "\n",
        "# Plotting Heatmap\n",
        "plt.figure(figsize=(10, 6))\n",
        "sns.heatmap(heatmap_data.T, annot=True, cmap='coolwarm', fmt='g', cbar_kws={'label': 'Jumlah Penyewaan Sepeda'})\n",
        "\n",
        "# Menambahkan informasi ke plot\n",
        "plt.title('Peta Panas Pengaruh Cuaca terhadap Penyewaan Sepeda', fontsize=16)\n",
        "plt.xlabel('Kondisi Cuaca')\n",
        "plt.ylabel('Tipe Penyewaan')\n",
        "plt.show()\n",
        "\n"
      ]
    },
    {
      "cell_type": "markdown",
      "metadata": {},
      "source": [
        "    Heatmap ini menunjukkan jumlah penyewaan sepeda (baik terdaftar maupun kasual) untuk setiap kondisi cuaca. Warna yang lebih terang menunjukkan lebih banyak penyewaan sepeda."
      ]
    },
    {
      "cell_type": "markdown",
      "metadata": {},
      "source": [
        "#### Jika visualisasi berupa persentase :"
      ]
    },
    {
      "cell_type": "code",
      "execution_count": 42,
      "metadata": {},
      "outputs": [
        {
          "name": "stderr",
          "output_type": "stream",
          "text": [
            "C:\\Users\\user\\AppData\\Local\\Temp\\ipykernel_11948\\818361721.py:11: FutureWarning: The default of observed=False is deprecated and will be changed to True in a future version of pandas. Pass observed=False to retain current behavior or observed=True to adopt the future default and silence this warning.\n",
            "  weather_rentals = df_day.groupby('weather')[['registered', 'casual']].sum().reset_index()\n"
          ]
        },
        {
          "name": "stdout",
          "output_type": "stream",
          "text": [
            "           weather  percentage\n",
            "0  Light Rain/Snow    1.150097\n",
            "1             Mist   30.274983\n",
            "2            clear   68.574920\n"
          ]
        },
        {
          "data": {
            "image/png": "[encoded data removed]",
            "text/plain": [
              "<Figure size 800x800 with 1 Axes>"
            ]
          },
          "metadata": {},
          "output_type": "display_data"
        }
      ],
      "source": [
        "import pandas as pd\n",
        "import matplotlib.pyplot as plt\n",
        "import seaborn as sns\n",
        "\n",
        "# Mengatur style visualisasi\n",
        "sns.set(style=\"whitegrid\")\n",
        "\n",
        "# df_day = pd.read_csv('day.csv')  # Jika perlu memuat data dari CSV\n",
        "\n",
        "# Mengelompokkan data berdasarkan cuaca dan menghitung jumlah penyewaan sepeda\n",
        "weather_rentals = df_day.groupby('weather')[['registered', 'casual']].sum().reset_index()\n",
        "\n",
        "# Menambahkan kolom total penyewaan sepeda\n",
        "weather_rentals['total_rentals'] = weather_rentals['registered'] + weather_rentals['casual']\n",
        "\n",
        "# Menghitung total penyewaan sepeda di seluruh dataset\n",
        "total_rentals_all_weather = weather_rentals['total_rentals'].sum()\n",
        "\n",
        "# Menambahkan kolom persentase penyewaan sepeda per cuaca\n",
        "weather_rentals['percentage'] = (weather_rentals['total_rentals'] / total_rentals_all_weather) * 100\n",
        "\n",
        "# Menampilkan dataframe hasil perhitungan\n",
        "print(weather_rentals[['weather', 'percentage']])\n",
        "\n",
        "# Plotting Donut Chart untuk distribusi penyewaan sepeda berdasarkan cuaca\n",
        "plt.figure(figsize=(8, 8))\n",
        "plt.pie(weather_rentals['percentage'], labels=weather_rentals['weather'], autopct='%1.1f%%', startangle=90, \n",
        "        wedgeprops={'width': 0.3}, colors=sns.color_palette('Set3', len(weather_rentals)))\n",
        "plt.title('Persentase Penyewaan Sepeda Berdasarkan Cuaca', fontsize=16)\n",
        "plt.axis('equal')  # Membuat pie chart menjadi lingkaran\n",
        "plt.show()\n",
        "\n"
      ]
    },
    {
      "cell_type": "markdown",
      "metadata": {},
      "source": [
        "    Barplot menunjukkan pengaruh kondisi cuaca terhadap total penyewaan sepeda. Misalnya, cuaca cerah (clear) kemungkinan akan memiliki jumlah penyewaan yang lebih tinggi dibandingkan dengan cuaca hujan. Visualisasi ini juga akan menunjukkan persentase penyewaan sepeda berdasarkan kondisi cuaca. Dan dapat dengan jelas dilihat cuaca mana yang memiliki kontribusi terbesar terhadap penyewaan sepeda."
      ]
    },
    {
      "cell_type": "markdown",
      "metadata": {
        "id": "9y4VUsmcYNZ5"
      },
      "source": [
        "## Analisis Lanjutan (Opsional)"
      ]
    },
    {
      "cell_type": "markdown",
      "metadata": {
        "id": "_WeHlCeX8DC2"
      },
      "source": [
        "## Conclusion"
      ]
    },
    {
      "cell_type": "markdown",
      "metadata": {
        "id": "ZTcyR48Y8DC2"
      },
      "source": [
        "#### - Musim Manakah yang Menjadi Musim Paling Diminati untuk Menyewa Sepeda?\n",
        "\n",
        "    Berdasarkan visualisasi data (seperti grafik batang atau grafik garis), dapat dilihat bahwa musim-musim dengan suhu yang lebih hangat, seperti musim semi dan musim panas, menunjukkan jumlah penyewaan sepeda yang lebih tinggi. Hal ini terlihat dari data yang mengindikasikan peningkatan signifikan dalam jumlah penyewaan sepeda selama bulan-bulan dengan suhu lebih hangat, seperti musim semi (spring) dan musim panas (summer). Grafik yang memperlihatkan jumlah penyewaan sepeda sepanjang waktu atau berdasarkan musim menunjukkan bahwa penyewaan lebih sering terjadi selama bulan-bulan dengan cuaca yang lebih nyaman untuk bersepeda.\n",
        "\n",
        "    Kesimpulan: Musim panas dan musim semi adalah musim yang paling diminati untuk menyewa sepeda, karena pada musim-musim tersebut suhu lebih mendukung untuk aktivitas luar ruangan.\n",
        "\n",
        "#### - Berapa Penyewa yang Akan Menyewa Sepeda Berdasarkan Pengaruh Musim?\n",
        "\n",
        "    Berdasarkan visualisasi data (seperti grafik garis atau batang yang menunjukkan distribusi penyewaan per musim), dapat dilihat bahwa jumlah penyewa sepeda sangat dipengaruhi oleh musim.\n",
        "\n",
        "    Musim panas (summer) menunjukkan jumlah penyewaan tertinggi, dengan peningkatan tajam pada jumlah sepeda yang disewa selama musim tersebut.\n",
        "    Kesimpulan: Berdasarkan visualisasi, penyewa sepeda paling banyak pada musim panas dan musim semi, sedangkan pada musim dingin dan musim gugur, jumlah penyewa cenderung berkurang. Ini menunjukkan bahwa cuaca yang lebih hangat dan nyaman memberikan pengaruh positif terhadap tingginya minat untuk menyewa sepeda.\n",
        "\n",
        "    Kesimpulan Umum:\n",
        "    Berdasarkan hasil analisis visualisasi data, kita dapat menyimpulkan bahwa:\n",
        "\n",
        "    Musim yang paling diminati untuk menyewa sepeda adalah musim panas dan musim semi.\n",
        "    Jumlah penyewa sepeda dipengaruhi secara signifikan oleh musim, dengan jumlah penyewa tertinggi pada musim panas dan musim semi, dan penurunan signifikan pada musim dingin."
      ]
    }
  ],
  "metadata": {
    "colab": {
      "provenance": []
    },
    "kernelspec": {
      "display_name": "Python 3",
      "language": "python",
      "name": "python3"
    },
    "language_info": {
      "codemirror_mode": {
        "name": "ipython",
        "version": 3
      },
      "file_extension": ".py",
      "mimetype": "text/x-python",
      "name": "python",
      "nbconvert_exporter": "python",
      "pygments_lexer": "ipython3",
      "version": "3.11.5"
    },
    "orig_nbformat": 4,
    "vscode": {
      "interpreter": {
        "hash": "972b3bf27e332e87b5379f2791f6ef9dfc79c71018c370b0d7423235e20fe4d7"
      }
    }
  },
  "nbformat": 4,
  "nbformat_minor": 0
}
